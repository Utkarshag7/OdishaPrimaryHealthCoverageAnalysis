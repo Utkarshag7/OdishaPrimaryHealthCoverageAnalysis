{
 "cells": [
  {
   "cell_type": "code",
   "execution_count": 21,
   "id": "4e8b25bc",
   "metadata": {},
   "outputs": [
    {
     "name": "stdout",
     "output_type": "stream",
     "text": [
      "\n",
      "🚀 Processing: ANUGUL\n"
     ]
    },
    {
     "name": "stderr",
     "output_type": "stream",
     "text": [
      "⏱ Routing villages in anugul:   0%|          | 0/1992 [00:00<?, ?it/s]C:\\Users\\utkar\\AppData\\Local\\Temp\\ipykernel_78684\\1892907156.py:55: UserWarning: Geometry is in a geographic CRS. Results from 'distance' are likely incorrect. Use 'GeoSeries.to_crs()' to re-project geometries to a projected CRS before this operation.\n",
      "\n",
      "  phcs['euclid_dist'] = phcs.geometry.distance(v_geom)\n",
      "⏱ Routing villages in anugul:   0%|          | 1/1992 [00:00<12:09,  2.73it/s]C:\\Users\\utkar\\AppData\\Local\\Temp\\ipykernel_78684\\1892907156.py:55: UserWarning: Geometry is in a geographic CRS. Results from 'distance' are likely incorrect. Use 'GeoSeries.to_crs()' to re-project geometries to a projected CRS before this operation.\n",
      "\n",
      "  phcs['euclid_dist'] = phcs.geometry.distance(v_geom)\n",
      "⏱ Routing villages in anugul: 100%|██████████| 1992/1992 [01:39<00:00, 20.06it/s]\n"
     ]
    },
    {
     "name": "stdout",
     "output_type": "stream",
     "text": [
      "✅ Saved: C:\\Users\\utkar\\OneDrive\\Desktop\\ClimateXTelemedicine Odisha\\Odisha_VScode\\.venv\\Policy note\\Outputs\\Districts\\anugul_village_to_phc.csv [1992 records]\n",
      "\n",
      "🚀 Processing: BALANGIR\n"
     ]
    },
    {
     "name": "stderr",
     "output_type": "stream",
     "text": [
      "⏱ Routing villages in balangir:   0%|          | 0/1874 [00:00<?, ?it/s]C:\\Users\\utkar\\AppData\\Local\\Temp\\ipykernel_78684\\1892907156.py:55: UserWarning: Geometry is in a geographic CRS. Results from 'distance' are likely incorrect. Use 'GeoSeries.to_crs()' to re-project geometries to a projected CRS before this operation.\n",
      "\n",
      "  phcs['euclid_dist'] = phcs.geometry.distance(v_geom)\n",
      "C:\\Users\\utkar\\AppData\\Local\\Temp\\ipykernel_78684\\1892907156.py:55: UserWarning: Geometry is in a geographic CRS. Results from 'distance' are likely incorrect. Use 'GeoSeries.to_crs()' to re-project geometries to a projected CRS before this operation.\n",
      "\n",
      "  phcs['euclid_dist'] = phcs.geometry.distance(v_geom)\n",
      "⏱ Routing villages in balangir: 100%|██████████| 1874/1874 [01:32<00:00, 20.19it/s]\n"
     ]
    },
    {
     "name": "stdout",
     "output_type": "stream",
     "text": [
      "✅ Saved: C:\\Users\\utkar\\OneDrive\\Desktop\\ClimateXTelemedicine Odisha\\Odisha_VScode\\.venv\\Policy note\\Outputs\\Districts\\balangir_village_to_phc.csv [1874 records]\n",
      "\n",
      "🚀 Processing: BALESHWAR\n"
     ]
    },
    {
     "name": "stderr",
     "output_type": "stream",
     "text": [
      "⏱ Routing villages in baleshwar:   0%|          | 0/2947 [00:00<?, ?it/s]C:\\Users\\utkar\\AppData\\Local\\Temp\\ipykernel_78684\\1892907156.py:55: UserWarning: Geometry is in a geographic CRS. Results from 'distance' are likely incorrect. Use 'GeoSeries.to_crs()' to re-project geometries to a projected CRS before this operation.\n",
      "\n",
      "  phcs['euclid_dist'] = phcs.geometry.distance(v_geom)\n",
      "C:\\Users\\utkar\\AppData\\Local\\Temp\\ipykernel_78684\\1892907156.py:55: UserWarning: Geometry is in a geographic CRS. Results from 'distance' are likely incorrect. Use 'GeoSeries.to_crs()' to re-project geometries to a projected CRS before this operation.\n",
      "\n",
      "  phcs['euclid_dist'] = phcs.geometry.distance(v_geom)\n",
      "⏱ Routing villages in baleshwar: 100%|██████████| 2947/2947 [02:26<00:00, 20.14it/s]\n"
     ]
    },
    {
     "name": "stdout",
     "output_type": "stream",
     "text": [
      "✅ Saved: C:\\Users\\utkar\\OneDrive\\Desktop\\ClimateXTelemedicine Odisha\\Odisha_VScode\\.venv\\Policy note\\Outputs\\Districts\\baleshwar_village_to_phc.csv [2947 records]\n",
      "\n",
      "🚀 Processing: BARGARH\n"
     ]
    },
    {
     "name": "stderr",
     "output_type": "stream",
     "text": [
      "⏱ Routing villages in bargarh:   0%|          | 0/1280 [00:00<?, ?it/s]C:\\Users\\utkar\\AppData\\Local\\Temp\\ipykernel_78684\\1892907156.py:55: UserWarning: Geometry is in a geographic CRS. Results from 'distance' are likely incorrect. Use 'GeoSeries.to_crs()' to re-project geometries to a projected CRS before this operation.\n",
      "\n",
      "  phcs['euclid_dist'] = phcs.geometry.distance(v_geom)\n",
      "C:\\Users\\utkar\\AppData\\Local\\Temp\\ipykernel_78684\\1892907156.py:55: UserWarning: Geometry is in a geographic CRS. Results from 'distance' are likely incorrect. Use 'GeoSeries.to_crs()' to re-project geometries to a projected CRS before this operation.\n",
      "\n",
      "  phcs['euclid_dist'] = phcs.geometry.distance(v_geom)\n",
      "⏱ Routing villages in bargarh: 100%|██████████| 1280/1280 [01:03<00:00, 20.28it/s]\n"
     ]
    },
    {
     "name": "stdout",
     "output_type": "stream",
     "text": [
      "✅ Saved: C:\\Users\\utkar\\OneDrive\\Desktop\\ClimateXTelemedicine Odisha\\Odisha_VScode\\.venv\\Policy note\\Outputs\\Districts\\bargarh_village_to_phc.csv [1280 records]\n",
      "\n",
      "🚀 Processing: BAUDH\n",
      "❌ Missing files for baudh, skipping...\n",
      "\n",
      "🚀 Processing: BHADRAK\n"
     ]
    },
    {
     "name": "stderr",
     "output_type": "stream",
     "text": [
      "⏱ Routing villages in bhadrak:   0%|          | 0/1318 [00:00<?, ?it/s]C:\\Users\\utkar\\AppData\\Local\\Temp\\ipykernel_78684\\1892907156.py:55: UserWarning: Geometry is in a geographic CRS. Results from 'distance' are likely incorrect. Use 'GeoSeries.to_crs()' to re-project geometries to a projected CRS before this operation.\n",
      "\n",
      "  phcs['euclid_dist'] = phcs.geometry.distance(v_geom)\n",
      "C:\\Users\\utkar\\AppData\\Local\\Temp\\ipykernel_78684\\1892907156.py:55: UserWarning: Geometry is in a geographic CRS. Results from 'distance' are likely incorrect. Use 'GeoSeries.to_crs()' to re-project geometries to a projected CRS before this operation.\n",
      "\n",
      "  phcs['euclid_dist'] = phcs.geometry.distance(v_geom)\n",
      "⏱ Routing villages in bhadrak: 100%|██████████| 1318/1318 [01:05<00:00, 20.00it/s]\n"
     ]
    },
    {
     "name": "stdout",
     "output_type": "stream",
     "text": [
      "✅ Saved: C:\\Users\\utkar\\OneDrive\\Desktop\\ClimateXTelemedicine Odisha\\Odisha_VScode\\.venv\\Policy note\\Outputs\\Districts\\bhadrak_village_to_phc.csv [1315 records]\n",
      "\n",
      "🚀 Processing: CUTTACK\n"
     ]
    },
    {
     "name": "stderr",
     "output_type": "stream",
     "text": [
      "⏱ Routing villages in cuttack:   0%|          | 0/1991 [00:00<?, ?it/s]C:\\Users\\utkar\\AppData\\Local\\Temp\\ipykernel_78684\\1892907156.py:55: UserWarning: Geometry is in a geographic CRS. Results from 'distance' are likely incorrect. Use 'GeoSeries.to_crs()' to re-project geometries to a projected CRS before this operation.\n",
      "\n",
      "  phcs['euclid_dist'] = phcs.geometry.distance(v_geom)\n",
      "C:\\Users\\utkar\\AppData\\Local\\Temp\\ipykernel_78684\\1892907156.py:55: UserWarning: Geometry is in a geographic CRS. Results from 'distance' are likely incorrect. Use 'GeoSeries.to_crs()' to re-project geometries to a projected CRS before this operation.\n",
      "\n",
      "  phcs['euclid_dist'] = phcs.geometry.distance(v_geom)\n",
      "⏱ Routing villages in cuttack: 100%|██████████| 1991/1991 [01:42<00:00, 19.36it/s]\n"
     ]
    },
    {
     "name": "stdout",
     "output_type": "stream",
     "text": [
      "✅ Saved: C:\\Users\\utkar\\OneDrive\\Desktop\\ClimateXTelemedicine Odisha\\Odisha_VScode\\.venv\\Policy note\\Outputs\\Districts\\cuttack_village_to_phc.csv [1991 records]\n",
      "\n",
      "🚀 Processing: DEOGARH\n"
     ]
    },
    {
     "name": "stderr",
     "output_type": "stream",
     "text": [
      "⏱ Routing villages in deogarh:   0%|          | 0/906 [00:00<?, ?it/s]C:\\Users\\utkar\\AppData\\Local\\Temp\\ipykernel_78684\\1892907156.py:55: UserWarning: Geometry is in a geographic CRS. Results from 'distance' are likely incorrect. Use 'GeoSeries.to_crs()' to re-project geometries to a projected CRS before this operation.\n",
      "\n",
      "  phcs['euclid_dist'] = phcs.geometry.distance(v_geom)\n",
      "C:\\Users\\utkar\\AppData\\Local\\Temp\\ipykernel_78684\\1892907156.py:55: UserWarning: Geometry is in a geographic CRS. Results from 'distance' are likely incorrect. Use 'GeoSeries.to_crs()' to re-project geometries to a projected CRS before this operation.\n",
      "\n",
      "  phcs['euclid_dist'] = phcs.geometry.distance(v_geom)\n",
      "⏱ Routing villages in deogarh: 100%|██████████| 906/906 [00:46<00:00, 19.62it/s]\n"
     ]
    },
    {
     "name": "stdout",
     "output_type": "stream",
     "text": [
      "✅ Saved: C:\\Users\\utkar\\OneDrive\\Desktop\\ClimateXTelemedicine Odisha\\Odisha_VScode\\.venv\\Policy note\\Outputs\\Districts\\deogarh_village_to_phc.csv [906 records]\n",
      "\n",
      "🚀 Processing: DHENKANAL\n"
     ]
    },
    {
     "name": "stderr",
     "output_type": "stream",
     "text": [
      "⏱ Routing villages in dhenkanal:   0%|          | 0/1248 [00:00<?, ?it/s]C:\\Users\\utkar\\AppData\\Local\\Temp\\ipykernel_78684\\1892907156.py:55: UserWarning: Geometry is in a geographic CRS. Results from 'distance' are likely incorrect. Use 'GeoSeries.to_crs()' to re-project geometries to a projected CRS before this operation.\n",
      "\n",
      "  phcs['euclid_dist'] = phcs.geometry.distance(v_geom)\n",
      "C:\\Users\\utkar\\AppData\\Local\\Temp\\ipykernel_78684\\1892907156.py:55: UserWarning: Geometry is in a geographic CRS. Results from 'distance' are likely incorrect. Use 'GeoSeries.to_crs()' to re-project geometries to a projected CRS before this operation.\n",
      "\n",
      "  phcs['euclid_dist'] = phcs.geometry.distance(v_geom)\n",
      "⏱ Routing villages in dhenkanal: 100%|██████████| 1248/1248 [01:00<00:00, 20.65it/s]\n"
     ]
    },
    {
     "name": "stdout",
     "output_type": "stream",
     "text": [
      "✅ Saved: C:\\Users\\utkar\\OneDrive\\Desktop\\ClimateXTelemedicine Odisha\\Odisha_VScode\\.venv\\Policy note\\Outputs\\Districts\\dhenkanal_village_to_phc.csv [1248 records]\n",
      "\n",
      "🚀 Processing: GAJAPATI\n"
     ]
    },
    {
     "name": "stderr",
     "output_type": "stream",
     "text": [
      "⏱ Routing villages in gajapati:   0%|          | 0/1646 [00:00<?, ?it/s]C:\\Users\\utkar\\AppData\\Local\\Temp\\ipykernel_78684\\1892907156.py:55: UserWarning: Geometry is in a geographic CRS. Results from 'distance' are likely incorrect. Use 'GeoSeries.to_crs()' to re-project geometries to a projected CRS before this operation.\n",
      "\n",
      "  phcs['euclid_dist'] = phcs.geometry.distance(v_geom)\n",
      "C:\\Users\\utkar\\AppData\\Local\\Temp\\ipykernel_78684\\1892907156.py:55: UserWarning: Geometry is in a geographic CRS. Results from 'distance' are likely incorrect. Use 'GeoSeries.to_crs()' to re-project geometries to a projected CRS before this operation.\n",
      "\n",
      "  phcs['euclid_dist'] = phcs.geometry.distance(v_geom)\n",
      "⏱ Routing villages in gajapati: 100%|██████████| 1646/1646 [01:20<00:00, 20.51it/s]"
     ]
    },
    {
     "name": "stdout",
     "output_type": "stream",
     "text": [
      "✅ Saved: C:\\Users\\utkar\\OneDrive\\Desktop\\ClimateXTelemedicine Odisha\\Odisha_VScode\\.venv\\Policy note\\Outputs\\Districts\\gajapati_village_to_phc.csv [1646 records]\n"
     ]
    },
    {
     "name": "stderr",
     "output_type": "stream",
     "text": [
      "\n"
     ]
    }
   ],
   "source": [
    "import os\n",
    "import requests\n",
    "import geopandas as gpd\n",
    "import pandas as pd\n",
    "from shapely.geometry import Point\n",
    "from tqdm import tqdm\n",
    "\n",
    "# === PATH SETUP ===\n",
    "VILLAGE_DIR = r\"C:\\Users\\utkar\\OneDrive\\Desktop\\ClimateXTelemedicine Odisha\\Odisha_VScode\\.venv\\Policy note\\Snapped_districts\"\n",
    "PHC_DIR = r\"C:\\Users\\utkar\\OneDrive\\Desktop\\ClimateXTelemedicine Odisha\\Odisha_VScode\\.venv\\Policy note\\Snapped_Facilities\"\n",
    "OUTPUT_DIR = r\"C:\\Users\\utkar\\OneDrive\\Desktop\\ClimateXTelemedicine Odisha\\Odisha_VScode\\.venv\\Policy note\\Outputs\\Districts\"\n",
    "os.makedirs(OUTPUT_DIR, exist_ok=True)\n",
    "\n",
    "# === DISTRICTS: First 10 alphabetically ===\n",
    "districts = ['anugul', 'balangir', 'baleshwar', 'bargarh', 'baudh', \n",
    "             'bhadrak', 'cuttack', 'deogarh', 'dhenkanal', 'gajapati']\n",
    "\n",
    "# === OSRM routing function ===\n",
    "def osrm_route(src, dst):\n",
    "    url = f\"http://localhost:5000/route/v1/driving/{src.x},{src.y};{dst.x},{dst.y}?overview=false\"\n",
    "    try:\n",
    "        r = requests.get(url)\n",
    "        data = r.json()\n",
    "        if r.status_code == 200 and 'routes' in data:\n",
    "            duration = data['routes'][0]['duration']  # in seconds\n",
    "            distance = data['routes'][0]['distance']  # in meters\n",
    "            return duration, distance\n",
    "    except:\n",
    "        return None, None\n",
    "    return None, None\n",
    "\n",
    "# === PROCESS EACH DISTRICT ===\n",
    "for district in districts:\n",
    "    print(f\"\\n🚀 Processing: {district.upper()}\")\n",
    "\n",
    "    # === Load village and PHC files ===\n",
    "    v_path = os.path.join(VILLAGE_DIR, f\"{district}_villages_snapped.geojson\")\n",
    "    f_path = os.path.join(PHC_DIR, f\"{district}_phc.geojson\")\n",
    "\n",
    "    if not os.path.exists(v_path) or not os.path.exists(f_path):\n",
    "        print(f\"❌ Missing files for {district}, skipping...\")\n",
    "        continue\n",
    "\n",
    "    villages = gpd.read_file(v_path).to_crs(epsg=4326)\n",
    "    phcs = gpd.read_file(f_path).to_crs(epsg=4326)\n",
    "\n",
    "    # === Prepare outputs ===\n",
    "    output_rows = []\n",
    "\n",
    "    for i, v_row in tqdm(villages.iterrows(), total=len(villages), desc=f\"⏱ Routing villages in {district}\"):\n",
    "        v_geom = v_row.geometry\n",
    "        v_id = v_row.get('village_id', i)\n",
    "\n",
    "        # Find top 3 nearest PHCs by straight-line distance\n",
    "        phcs['euclid_dist'] = phcs.geometry.distance(v_geom)\n",
    "        nearest = phcs.sort_values('euclid_dist').head(3)\n",
    "\n",
    "        best_time = float('inf')\n",
    "        best_record = None\n",
    "\n",
    "        for _, f_row in nearest.iterrows():\n",
    "            f_geom = f_row.geometry\n",
    "            duration, distance = osrm_route(v_geom, f_geom)\n",
    "            if duration is not None:\n",
    "                if duration < best_time:\n",
    "                    best_time = duration\n",
    "                    best_record = {\n",
    "                        'village_id': v_id,\n",
    "                        'facility_id': f_row.get('facilityname', ''),\n",
    "                        'facility_type': 'phc',\n",
    "                        'duration_sec': duration,\n",
    "                        'distance_m': distance,\n",
    "                        'facility_lat': f_geom.y,\n",
    "                        'facility_lon': f_geom.x\n",
    "                    }\n",
    "\n",
    "        if best_record:\n",
    "            output_rows.append(best_record)\n",
    "\n",
    "    # === Save output ===\n",
    "    df_out = pd.DataFrame(output_rows)\n",
    "    out_path = os.path.join(OUTPUT_DIR, f\"{district}_village_to_phc.csv\")\n",
    "    df_out.to_csv(out_path, index=False)\n",
    "    print(f\"✅ Saved: {out_path} [{len(df_out)} records]\")"
   ]
  },
  {
   "cell_type": "code",
   "execution_count": 22,
   "id": "ae45402e",
   "metadata": {},
   "outputs": [
    {
     "name": "stdout",
     "output_type": "stream",
     "text": [
      "\n",
      "🚀 Processing: GANJAM\n"
     ]
    },
    {
     "name": "stderr",
     "output_type": "stream",
     "text": [
      "⏱ Routing villages in ganjam: 100%|██████████| 3328/3328 [02:06<00:00, 26.22it/s]\n"
     ]
    },
    {
     "name": "stdout",
     "output_type": "stream",
     "text": [
      "✅ Saved: C:\\Users\\utkar\\OneDrive\\Desktop\\ClimateXTelemedicine Odisha\\Odisha_VScode\\.venv\\Policy note\\Outputs\\Districts\\ganjam_village_to_phc.csv [3328 records]\n",
      "\n",
      "🚀 Processing: JAGATSINGHAPUR\n",
      "❌ Missing files for jagatsinghapur, skipping...\n",
      "\n",
      "🚀 Processing: JAJAPUR\n"
     ]
    },
    {
     "name": "stderr",
     "output_type": "stream",
     "text": [
      "⏱ Routing villages in jajapur: 100%|██████████| 1796/1796 [01:10<00:00, 25.53it/s]\n"
     ]
    },
    {
     "name": "stdout",
     "output_type": "stream",
     "text": [
      "✅ Saved: C:\\Users\\utkar\\OneDrive\\Desktop\\ClimateXTelemedicine Odisha\\Odisha_VScode\\.venv\\Policy note\\Outputs\\Districts\\jajapur_village_to_phc.csv [1796 records]\n",
      "\n",
      "🚀 Processing: JHARSUGUDA\n"
     ]
    },
    {
     "name": "stderr",
     "output_type": "stream",
     "text": [
      "⏱ Routing villages in jharsuguda: 100%|██████████| 382/382 [00:16<00:00, 22.63it/s]\n"
     ]
    },
    {
     "name": "stdout",
     "output_type": "stream",
     "text": [
      "✅ Saved: C:\\Users\\utkar\\OneDrive\\Desktop\\ClimateXTelemedicine Odisha\\Odisha_VScode\\.venv\\Policy note\\Outputs\\Districts\\jharsuguda_village_to_phc.csv [382 records]\n",
      "\n",
      "🚀 Processing: KALAHANDI\n"
     ]
    },
    {
     "name": "stderr",
     "output_type": "stream",
     "text": [
      "⏱ Routing villages in kalahandi: 100%|██████████| 2359/2359 [01:28<00:00, 26.62it/s]\n"
     ]
    },
    {
     "name": "stdout",
     "output_type": "stream",
     "text": [
      "✅ Saved: C:\\Users\\utkar\\OneDrive\\Desktop\\ClimateXTelemedicine Odisha\\Odisha_VScode\\.venv\\Policy note\\Outputs\\Districts\\kalahandi_village_to_phc.csv [2359 records]\n",
      "\n",
      "🚀 Processing: KANDHAMAL\n"
     ]
    },
    {
     "name": "stderr",
     "output_type": "stream",
     "text": [
      "⏱ Routing villages in kandhamal: 100%|██████████| 2737/2737 [01:41<00:00, 26.94it/s]\n"
     ]
    },
    {
     "name": "stdout",
     "output_type": "stream",
     "text": [
      "✅ Saved: C:\\Users\\utkar\\OneDrive\\Desktop\\ClimateXTelemedicine Odisha\\Odisha_VScode\\.venv\\Policy note\\Outputs\\Districts\\kandhamal_village_to_phc.csv [2737 records]\n",
      "\n",
      "🚀 Processing: KENDRAPARA\n"
     ]
    },
    {
     "name": "stderr",
     "output_type": "stream",
     "text": [
      "⏱ Routing villages in kendrapara: 100%|██████████| 1559/1559 [01:03<00:00, 24.44it/s]\n"
     ]
    },
    {
     "name": "stdout",
     "output_type": "stream",
     "text": [
      "✅ Saved: C:\\Users\\utkar\\OneDrive\\Desktop\\ClimateXTelemedicine Odisha\\Odisha_VScode\\.venv\\Policy note\\Outputs\\Districts\\kendrapara_village_to_phc.csv [1559 records]\n",
      "\n",
      "🚀 Processing: KEONJHAR\n"
     ]
    },
    {
     "name": "stderr",
     "output_type": "stream",
     "text": [
      "⏱ Routing villages in keonjhar: 100%|██████████| 2181/2181 [01:15<00:00, 28.83it/s]\n"
     ]
    },
    {
     "name": "stdout",
     "output_type": "stream",
     "text": [
      "✅ Saved: C:\\Users\\utkar\\OneDrive\\Desktop\\ClimateXTelemedicine Odisha\\Odisha_VScode\\.venv\\Policy note\\Outputs\\Districts\\keonjhar_village_to_phc.csv [2181 records]\n",
      "\n",
      "🚀 Processing: KHORDHA\n"
     ]
    },
    {
     "name": "stderr",
     "output_type": "stream",
     "text": [
      "⏱ Routing villages in khordha: 100%|██████████| 1547/1547 [00:57<00:00, 26.83it/s]\n"
     ]
    },
    {
     "name": "stdout",
     "output_type": "stream",
     "text": [
      "✅ Saved: C:\\Users\\utkar\\OneDrive\\Desktop\\ClimateXTelemedicine Odisha\\Odisha_VScode\\.venv\\Policy note\\Outputs\\Districts\\khordha_village_to_phc.csv [1547 records]\n",
      "\n",
      "🚀 Processing: KORAPUT\n"
     ]
    },
    {
     "name": "stderr",
     "output_type": "stream",
     "text": [
      "⏱ Routing villages in koraput: 100%|██████████| 2227/2227 [01:22<00:00, 26.88it/s]"
     ]
    },
    {
     "name": "stdout",
     "output_type": "stream",
     "text": [
      "✅ Saved: C:\\Users\\utkar\\OneDrive\\Desktop\\ClimateXTelemedicine Odisha\\Odisha_VScode\\.venv\\Policy note\\Outputs\\Districts\\koraput_village_to_phc.csv [2227 records]\n",
      "\n",
      "🚀 Processing: BAUDH\n",
      "❌ Missing files for baudh, skipping...\n"
     ]
    },
    {
     "name": "stderr",
     "output_type": "stream",
     "text": [
      "\n"
     ]
    }
   ],
   "source": [
    "import os\n",
    "import requests\n",
    "import geopandas as gpd\n",
    "import pandas as pd\n",
    "from shapely.geometry import Point\n",
    "from tqdm import tqdm\n",
    "\n",
    "# === PATH SETUP ===\n",
    "VILLAGE_DIR = r\"C:\\Users\\utkar\\OneDrive\\Desktop\\ClimateXTelemedicine Odisha\\Odisha_VScode\\.venv\\Policy note\\Snapped_districts\"\n",
    "PHC_DIR = r\"C:\\Users\\utkar\\OneDrive\\Desktop\\ClimateXTelemedicine Odisha\\Odisha_VScode\\.venv\\Policy note\\Snapped_Facilities\"\n",
    "OUTPUT_DIR = r\"C:\\Users\\utkar\\OneDrive\\Desktop\\ClimateXTelemedicine Odisha\\Odisha_VScode\\.venv\\Policy note\\Outputs\\Districts\"\n",
    "os.makedirs(OUTPUT_DIR, exist_ok=True)\n",
    "\n",
    "# === DISTRICTS: Next 10 + Baudh ===\n",
    "districts = [\n",
    "    'ganjam', 'jagatsinghapur', 'jajapur', 'jharsuguda', 'kalahandi',\n",
    "    'kandhamal', 'kendrapara', 'keonjhar', 'khordha', 'koraput',\n",
    "    'baudh'  # Re-added baudh\n",
    "]\n",
    "\n",
    "# === OSRM routing function ===\n",
    "def osrm_route(src, dst):\n",
    "    url = f\"http://localhost:5000/route/v1/driving/{src.x},{src.y};{dst.x},{dst.y}?overview=false\"\n",
    "    try:\n",
    "        r = requests.get(url)\n",
    "        data = r.json()\n",
    "        if r.status_code == 200 and 'routes' in data:\n",
    "            duration = data['routes'][0]['duration']  # seconds\n",
    "            distance = data['routes'][0]['distance']  # meters\n",
    "            return duration, distance\n",
    "    except:\n",
    "        return None, None\n",
    "    return None, None\n",
    "\n",
    "# === PROCESS EACH DISTRICT ===\n",
    "for district in districts:\n",
    "    print(f\"\\n🚀 Processing: {district.upper()}\")\n",
    "\n",
    "    # Load village and PHC files\n",
    "    v_path = os.path.join(VILLAGE_DIR, f\"{district}_villages_snapped.geojson\")\n",
    "    f_path = os.path.join(PHC_DIR, f\"{district}_phc.geojson\")\n",
    "\n",
    "    if not os.path.exists(v_path) or not os.path.exists(f_path):\n",
    "        print(f\"❌ Missing files for {district}, skipping...\")\n",
    "        continue\n",
    "\n",
    "    villages = gpd.read_file(v_path).to_crs(epsg=4326)\n",
    "    phcs = gpd.read_file(f_path).to_crs(epsg=4326)\n",
    "\n",
    "    # Output holder\n",
    "    output_rows = []\n",
    "\n",
    "    for i, v_row in tqdm(villages.iterrows(), total=len(villages), desc=f\"⏱ Routing villages in {district}\"):\n",
    "        v_geom = v_row.geometry\n",
    "        v_id = v_row.get('village_id', i)\n",
    "\n",
    "        # Projected distance calc (to avoid CRS warning)\n",
    "        phcs_proj = phcs.to_crs(epsg=32644)\n",
    "        v_geom_proj = gpd.GeoSeries([v_geom], crs=4326).to_crs(epsg=32644).iloc[0]\n",
    "        phcs_proj['euclid_dist'] = phcs_proj.geometry.distance(v_geom_proj)\n",
    "\n",
    "        # Get top 3 by Euclidean, original order\n",
    "        nearest = phcs.loc[phcs_proj.sort_values('euclid_dist').index[:3]]\n",
    "\n",
    "        best_time = float('inf')\n",
    "        best_record = None\n",
    "\n",
    "        for _, f_row in nearest.iterrows():\n",
    "            f_geom = f_row.geometry\n",
    "            duration, distance = osrm_route(v_geom, f_geom)\n",
    "            if duration is not None and duration < best_time:\n",
    "                best_time = duration\n",
    "                best_record = {\n",
    "                    'village_id': v_id,\n",
    "                    'facility_id': f_row.get('facilityname', ''),\n",
    "                    'facility_type': 'phc',\n",
    "                    'duration_sec': duration,\n",
    "                    'distance_m': distance,\n",
    "                    'facility_lat': f_geom.y,\n",
    "                    'facility_lon': f_geom.x\n",
    "                }\n",
    "\n",
    "        if best_record:\n",
    "            output_rows.append(best_record)\n",
    "\n",
    "    # Save output\n",
    "    df_out = pd.DataFrame(output_rows)\n",
    "    out_path = os.path.join(OUTPUT_DIR, f\"{district}_village_to_phc.csv\")\n",
    "    df_out.to_csv(out_path, index=False)\n",
    "    print(f\"✅ Saved: {out_path} [{len(df_out)} records]\")"
   ]
  },
  {
   "cell_type": "code",
   "execution_count": 23,
   "id": "8f216743",
   "metadata": {},
   "outputs": [
    {
     "name": "stdout",
     "output_type": "stream",
     "text": [
      "\n",
      "🚀 Processing: MALKANGIRI\n"
     ]
    },
    {
     "name": "stderr",
     "output_type": "stream",
     "text": [
      "⏱ Routing villages in malkangiri: 100%|██████████| 1142/1142 [00:42<00:00, 26.67it/s]\n"
     ]
    },
    {
     "name": "stdout",
     "output_type": "stream",
     "text": [
      "✅ Saved: C:\\Users\\utkar\\OneDrive\\Desktop\\ClimateXTelemedicine Odisha\\Odisha_VScode\\.venv\\Policy note\\Outputs\\Districts\\malkangiri_village_to_phc.csv [1142 records]\n",
      "\n",
      "🚀 Processing: MAYURBHANJ\n"
     ]
    },
    {
     "name": "stderr",
     "output_type": "stream",
     "text": [
      "⏱ Routing villages in mayurbhanj: 100%|██████████| 3975/3975 [02:23<00:00, 27.63it/s]\n"
     ]
    },
    {
     "name": "stdout",
     "output_type": "stream",
     "text": [
      "✅ Saved: C:\\Users\\utkar\\OneDrive\\Desktop\\ClimateXTelemedicine Odisha\\Odisha_VScode\\.venv\\Policy note\\Outputs\\Districts\\mayurbhanj_village_to_phc.csv [3975 records]\n",
      "\n",
      "🚀 Processing: NABARANGPUR\n",
      "❌ Missing files for nabarangpur, skipping...\n",
      "\n",
      "🚀 Processing: NAYAGARH\n"
     ]
    },
    {
     "name": "stderr",
     "output_type": "stream",
     "text": [
      "⏱ Routing villages in nayagarh: 100%|██████████| 1755/1755 [01:07<00:00, 25.98it/s]\n"
     ]
    },
    {
     "name": "stdout",
     "output_type": "stream",
     "text": [
      "✅ Saved: C:\\Users\\utkar\\OneDrive\\Desktop\\ClimateXTelemedicine Odisha\\Odisha_VScode\\.venv\\Policy note\\Outputs\\Districts\\nayagarh_village_to_phc.csv [1755 records]\n",
      "\n",
      "🚀 Processing: NUAPADA\n"
     ]
    },
    {
     "name": "stderr",
     "output_type": "stream",
     "text": [
      "⏱ Routing villages in nuapada: 100%|██████████| 719/719 [00:28<00:00, 25.16it/s]\n"
     ]
    },
    {
     "name": "stdout",
     "output_type": "stream",
     "text": [
      "✅ Saved: C:\\Users\\utkar\\OneDrive\\Desktop\\ClimateXTelemedicine Odisha\\Odisha_VScode\\.venv\\Policy note\\Outputs\\Districts\\nuapada_village_to_phc.csv [719 records]\n",
      "\n",
      "🚀 Processing: PURI\n"
     ]
    },
    {
     "name": "stderr",
     "output_type": "stream",
     "text": [
      "⏱ Routing villages in puri: 100%|██████████| 1716/1716 [01:10<00:00, 24.31it/s]\n"
     ]
    },
    {
     "name": "stdout",
     "output_type": "stream",
     "text": [
      "✅ Saved: C:\\Users\\utkar\\OneDrive\\Desktop\\ClimateXTelemedicine Odisha\\Odisha_VScode\\.venv\\Policy note\\Outputs\\Districts\\puri_village_to_phc.csv [1716 records]\n",
      "\n",
      "🚀 Processing: RAYAGADA\n"
     ]
    },
    {
     "name": "stderr",
     "output_type": "stream",
     "text": [
      "⏱ Routing villages in rayagada: 100%|██████████| 2824/2824 [01:44<00:00, 27.07it/s]\n"
     ]
    },
    {
     "name": "stdout",
     "output_type": "stream",
     "text": [
      "✅ Saved: C:\\Users\\utkar\\OneDrive\\Desktop\\ClimateXTelemedicine Odisha\\Odisha_VScode\\.venv\\Policy note\\Outputs\\Districts\\rayagada_village_to_phc.csv [2824 records]\n",
      "\n",
      "🚀 Processing: SAMBALPUR\n"
     ]
    },
    {
     "name": "stderr",
     "output_type": "stream",
     "text": [
      "⏱ Routing villages in sambalpur: 100%|██████████| 1414/1414 [00:56<00:00, 25.04it/s]\n"
     ]
    },
    {
     "name": "stdout",
     "output_type": "stream",
     "text": [
      "✅ Saved: C:\\Users\\utkar\\OneDrive\\Desktop\\ClimateXTelemedicine Odisha\\Odisha_VScode\\.venv\\Policy note\\Outputs\\Districts\\sambalpur_village_to_phc.csv [1414 records]\n",
      "\n",
      "🚀 Processing: SONAPUR\n",
      "❌ Missing files for sonapur, skipping...\n",
      "\n",
      "🚀 Processing: SUNDARGARH\n"
     ]
    },
    {
     "name": "stderr",
     "output_type": "stream",
     "text": [
      "⏱ Routing villages in sundargarh: 100%|██████████| 1931/1931 [01:20<00:00, 23.88it/s]\n"
     ]
    },
    {
     "name": "stdout",
     "output_type": "stream",
     "text": [
      "✅ Saved: C:\\Users\\utkar\\OneDrive\\Desktop\\ClimateXTelemedicine Odisha\\Odisha_VScode\\.venv\\Policy note\\Outputs\\Districts\\sundargarh_village_to_phc.csv [1931 records]\n"
     ]
    }
   ],
   "source": [
    "import os\n",
    "import requests\n",
    "import geopandas as gpd\n",
    "import pandas as pd\n",
    "from shapely.geometry import Point\n",
    "from tqdm import tqdm\n",
    "\n",
    "# === PATH SETUP ===\n",
    "VILLAGE_DIR = r\"C:\\Users\\utkar\\OneDrive\\Desktop\\ClimateXTelemedicine Odisha\\Odisha_VScode\\.venv\\Policy note\\Snapped_districts\"\n",
    "PHC_DIR = r\"C:\\Users\\utkar\\OneDrive\\Desktop\\ClimateXTelemedicine Odisha\\Odisha_VScode\\.venv\\Policy note\\Snapped_Facilities\"\n",
    "OUTPUT_DIR = r\"C:\\Users\\utkar\\OneDrive\\Desktop\\ClimateXTelemedicine Odisha\\Odisha_VScode\\.venv\\Policy note\\Outputs\\Districts\"\n",
    "os.makedirs(OUTPUT_DIR, exist_ok=True)\n",
    "\n",
    "# === FINAL DISTRICT BATCH ===\n",
    "districts = [\n",
    "    'malkangiri', 'mayurbhanj', 'nabarangpur', 'nayagarh', 'nuapada',\n",
    "    'puri', 'rayagada', 'sambalpur', 'sonapur', 'sundargarh'\n",
    "]\n",
    "\n",
    "# === OSRM routing function ===\n",
    "def osrm_route(src, dst):\n",
    "    url = f\"http://localhost:5000/route/v1/driving/{src.x},{src.y};{dst.x},{dst.y}?overview=false\"\n",
    "    try:\n",
    "        r = requests.get(url)\n",
    "        data = r.json()\n",
    "        if r.status_code == 200 and 'routes' in data:\n",
    "            duration = data['routes'][0]['duration']\n",
    "            distance = data['routes'][0]['distance']\n",
    "            return duration, distance\n",
    "    except:\n",
    "        return None, None\n",
    "    return None, None\n",
    "\n",
    "# === PROCESS EACH DISTRICT ===\n",
    "for district in districts:\n",
    "    print(f\"\\n🚀 Processing: {district.upper()}\")\n",
    "\n",
    "    v_path = os.path.join(VILLAGE_DIR, f\"{district}_villages_snapped.geojson\")\n",
    "    f_path = os.path.join(PHC_DIR, f\"{district}_phc.geojson\")\n",
    "\n",
    "    if not os.path.exists(v_path) or not os.path.exists(f_path):\n",
    "        print(f\"❌ Missing files for {district}, skipping...\")\n",
    "        continue\n",
    "\n",
    "    villages = gpd.read_file(v_path).to_crs(epsg=4326)\n",
    "    phcs = gpd.read_file(f_path).to_crs(epsg=4326)\n",
    "\n",
    "    output_rows = []\n",
    "\n",
    "    for i, v_row in tqdm(villages.iterrows(), total=len(villages), desc=f\"⏱ Routing villages in {district}\"):\n",
    "        v_geom = v_row.geometry\n",
    "        v_id = v_row.get('village_id', i)\n",
    "\n",
    "        # Reproject for accurate Euclidean distance\n",
    "        phcs_proj = phcs.to_crs(epsg=32644)\n",
    "        v_geom_proj = gpd.GeoSeries([v_geom], crs=4326).to_crs(epsg=32644).iloc[0]\n",
    "        phcs_proj['euclid_dist'] = phcs_proj.geometry.distance(v_geom_proj)\n",
    "\n",
    "        nearest = phcs.loc[phcs_proj.sort_values('euclid_dist').index[:3]]\n",
    "\n",
    "        best_time = float('inf')\n",
    "        best_record = None\n",
    "\n",
    "        for _, f_row in nearest.iterrows():\n",
    "            f_geom = f_row.geometry\n",
    "            duration, distance = osrm_route(v_geom, f_geom)\n",
    "            if duration is not None and duration < best_time:\n",
    "                best_time = duration\n",
    "                best_record = {\n",
    "                    'village_id': v_id,\n",
    "                    'facility_id': f_row.get('facilityname', ''),\n",
    "                    'facility_type': 'phc',\n",
    "                    'duration_sec': duration,\n",
    "                    'distance_m': distance,\n",
    "                    'facility_lat': f_geom.y,\n",
    "                    'facility_lon': f_geom.x\n",
    "                }\n",
    "\n",
    "        if best_record:\n",
    "            output_rows.append(best_record)\n",
    "\n",
    "    df_out = pd.DataFrame(output_rows)\n",
    "    out_path = os.path.join(OUTPUT_DIR, f\"{district}_village_to_phc.csv\")\n",
    "    df_out.to_csv(out_path, index=False)\n",
    "    print(f\"✅ Saved: {out_path} [{len(df_out)} records]\")"
   ]
  },
  {
   "cell_type": "code",
   "execution_count": 24,
   "id": "d9871a75",
   "metadata": {},
   "outputs": [
    {
     "name": "stdout",
     "output_type": "stream",
     "text": [
      "\n",
      "🚀 Processing: BOUDH\n",
      "❌ Missing files for boudh, skipping...\n",
      "\n",
      "🚀 Processing: KENDUJHAR\n",
      "❌ Missing files for kendujhar, skipping...\n",
      "\n",
      "🚀 Processing: JAGATSINGHAPUR\n",
      "❌ Missing files for jagatsinghapur, skipping...\n",
      "\n",
      "🚀 Processing: NABARANGPUR\n",
      "❌ Missing files for nabarangpur, skipping...\n",
      "\n",
      "🚀 Processing: SONEPUR\n"
     ]
    },
    {
     "name": "stderr",
     "output_type": "stream",
     "text": [
      "⏱ Routing villages in sonepur: 100%|██████████| 1000/1000 [00:38<00:00, 26.07it/s]"
     ]
    },
    {
     "name": "stdout",
     "output_type": "stream",
     "text": [
      "✅ Saved: C:\\Users\\utkar\\OneDrive\\Desktop\\ClimateXTelemedicine Odisha\\Odisha_VScode\\.venv\\Policy note\\Outputs\\Districts\\sonepur_village_to_phc.csv [1000 records]\n"
     ]
    },
    {
     "name": "stderr",
     "output_type": "stream",
     "text": [
      "\n"
     ]
    }
   ],
   "source": [
    "import os\n",
    "import requests\n",
    "import geopandas as gpd\n",
    "import pandas as pd\n",
    "from shapely.geometry import Point\n",
    "from tqdm import tqdm\n",
    "\n",
    "# === PATHS ===\n",
    "VILLAGE_DIR = r\"C:\\Users\\utkar\\OneDrive\\Desktop\\ClimateXTelemedicine Odisha\\Odisha_VScode\\.venv\\Policy note\\Snapped_districts\"\n",
    "PHC_DIR = r\"C:\\Users\\utkar\\OneDrive\\Desktop\\ClimateXTelemedicine Odisha\\Odisha_VScode\\.venv\\Policy note\\Snapped_Facilities\"\n",
    "OUTPUT_DIR = r\"C:\\Users\\utkar\\OneDrive\\Desktop\\ClimateXTelemedicine Odisha\\Odisha_VScode\\.venv\\Policy note\\Outputs\\Districts\"\n",
    "os.makedirs(OUTPUT_DIR, exist_ok=True)\n",
    "\n",
    "# === CORRECTED DISTRICT KEYS ===\n",
    "districts = ['boudh', 'kendujhar', 'jagatsinghapur', 'nabarangpur', 'sonepur']\n",
    "\n",
    "# === Manual overrides for mismatched PHC filenames ===\n",
    "facility_override = {\n",
    "    'boudh': 'baudh_phc.geojson',\n",
    "    'jagatsinghapur': 'jagatsinghpur_phc.geojson',\n",
    "    'nabarangpur': 'nabarangapur_phc.geojson'\n",
    "}\n",
    "\n",
    "# === OSRM ROUTING FUNCTION ===\n",
    "def osrm_route(src, dst):\n",
    "    url = f\"http://localhost:5000/route/v1/driving/{src.x},{src.y};{dst.x},{dst.y}?overview=false\"\n",
    "    try:\n",
    "        r = requests.get(url)\n",
    "        data = r.json()\n",
    "        if r.status_code == 200 and 'routes' in data:\n",
    "            duration = data['routes'][0]['duration']\n",
    "            distance = data['routes'][0]['distance']\n",
    "            return duration, distance\n",
    "    except:\n",
    "        return None, None\n",
    "    return None, None\n",
    "\n",
    "# === RUN ROUTING FOR EACH DISTRICT ===\n",
    "for district in districts:\n",
    "    print(f\"\\n🚀 Processing: {district.upper()}\")\n",
    "\n",
    "    v_path = os.path.join(VILLAGE_DIR, f\"{district}_villages_snapped.geojson\")\n",
    "    f_name = facility_override.get(district, f\"{district}_phc.geojson\")\n",
    "    f_path = os.path.join(PHC_DIR, f_name)\n",
    "\n",
    "    if not os.path.exists(v_path) or not os.path.exists(f_path):\n",
    "        print(f\"❌ Missing files for {district}, skipping...\")\n",
    "        continue\n",
    "\n",
    "    villages = gpd.read_file(v_path).to_crs(epsg=4326)\n",
    "    phcs = gpd.read_file(f_path).to_crs(epsg=4326)\n",
    "\n",
    "    output_rows = []\n",
    "\n",
    "    for i, v_row in tqdm(villages.iterrows(), total=len(villages), desc=f\"⏱ Routing villages in {district}\"):\n",
    "        v_geom = v_row.geometry\n",
    "        v_id = v_row.get('village_id', i)\n",
    "\n",
    "        # Project geometries for Euclidean filtering\n",
    "        phcs_proj = phcs.to_crs(epsg=32644)\n",
    "        v_geom_proj = gpd.GeoSeries([v_geom], crs=4326).to_crs(epsg=32644).iloc[0]\n",
    "        phcs_proj['euclid_dist'] = phcs_proj.geometry.distance(v_geom_proj)\n",
    "\n",
    "        # Select top 3 by straight-line distance\n",
    "        nearest = phcs.loc[phcs_proj.sort_values('euclid_dist').index[:3]]\n",
    "\n",
    "        best_time = float('inf')\n",
    "        best_record = None\n",
    "\n",
    "        for _, f_row in nearest.iterrows():\n",
    "            f_geom = f_row.geometry\n",
    "            duration, distance = osrm_route(v_geom, f_geom)\n",
    "            if duration is not None and duration < best_time:\n",
    "                best_time = duration\n",
    "                best_record = {\n",
    "                    'village_id': v_id,\n",
    "                    'facility_id': f_row.get('facilityname', ''),\n",
    "                    'facility_type': 'phc',\n",
    "                    'duration_sec': duration,\n",
    "                    'distance_m': distance,\n",
    "                    'facility_lat': f_geom.y,\n",
    "                    'facility_lon': f_geom.x\n",
    "                }\n",
    "\n",
    "        if best_record:\n",
    "            output_rows.append(best_record)\n",
    "\n",
    "    df_out = pd.DataFrame(output_rows)\n",
    "    out_path = os.path.join(OUTPUT_DIR, f\"{district}_village_to_phc.csv\")\n",
    "    df_out.to_csv(out_path, index=False)\n",
    "    print(f\"✅ Saved: {out_path} [{len(df_out)} records]\")"
   ]
  },
  {
   "cell_type": "code",
   "execution_count": 25,
   "id": "8e02c7a9",
   "metadata": {},
   "outputs": [
    {
     "name": "stdout",
     "output_type": "stream",
     "text": [
      "\n",
      "🚀 Processing: KEONJHAR\n"
     ]
    },
    {
     "name": "stderr",
     "output_type": "stream",
     "text": [
      "⏱ Routing villages in keonjhar: 100%|██████████| 2181/2181 [01:19<00:00, 27.56it/s]\n"
     ]
    },
    {
     "name": "stdout",
     "output_type": "stream",
     "text": [
      "✅ Saved: C:\\Users\\utkar\\OneDrive\\Desktop\\ClimateXTelemedicine Odisha\\Odisha_VScode\\.venv\\Policy note\\Outputs\\Districts\\keonjhar_village_to_phc.csv [2181 records]\n",
      "\n",
      "🚀 Processing: SONEPUR\n"
     ]
    },
    {
     "name": "stderr",
     "output_type": "stream",
     "text": [
      "⏱ Routing villages in sonepur: 100%|██████████| 1000/1000 [00:35<00:00, 28.17it/s]"
     ]
    },
    {
     "name": "stdout",
     "output_type": "stream",
     "text": [
      "✅ Saved: C:\\Users\\utkar\\OneDrive\\Desktop\\ClimateXTelemedicine Odisha\\Odisha_VScode\\.venv\\Policy note\\Outputs\\Districts\\sonepur_village_to_phc.csv [1000 records]\n"
     ]
    },
    {
     "name": "stderr",
     "output_type": "stream",
     "text": [
      "\n"
     ]
    }
   ],
   "source": [
    "import os\n",
    "import requests\n",
    "import geopandas as gpd\n",
    "import pandas as pd\n",
    "from shapely.geometry import Point\n",
    "from tqdm import tqdm\n",
    "\n",
    "# === PATHS ===\n",
    "VILLAGE_DIR = r\"C:\\Users\\utkar\\OneDrive\\Desktop\\ClimateXTelemedicine Odisha\\Odisha_VScode\\.venv\\Policy note\\Snapped_districts\"\n",
    "PHC_DIR = r\"C:\\Users\\utkar\\OneDrive\\Desktop\\ClimateXTelemedicine Odisha\\Odisha_VScode\\.venv\\Policy note\\Snapped_Facilities\"\n",
    "OUTPUT_DIR = r\"C:\\Users\\utkar\\OneDrive\\Desktop\\ClimateXTelemedicine Odisha\\Odisha_VScode\\.venv\\Policy note\\Outputs\\Districts\"\n",
    "os.makedirs(OUTPUT_DIR, exist_ok=True)\n",
    "\n",
    "# === FINAL 2 DISTRICTS ===\n",
    "districts = ['keonjhar', 'sonepur']\n",
    "\n",
    "# === OSRM ROUTING FUNCTION ===\n",
    "def osrm_route(src, dst):\n",
    "    url = f\"http://localhost:5000/route/v1/driving/{src.x},{src.y};{dst.x},{dst.y}?overview=false\"\n",
    "    try:\n",
    "        r = requests.get(url)\n",
    "        data = r.json()\n",
    "        if r.status_code == 200 and 'routes' in data:\n",
    "            duration = data['routes'][0]['duration']\n",
    "            distance = data['routes'][0]['distance']\n",
    "            return duration, distance\n",
    "    except:\n",
    "        return None, None\n",
    "    return None, None\n",
    "\n",
    "# === ROUTING FOR EACH DISTRICT ===\n",
    "for district in districts:\n",
    "    print(f\"\\n🚀 Processing: {district.upper()}\")\n",
    "\n",
    "    v_path = os.path.join(VILLAGE_DIR, f\"{district}_villages_snapped.geojson\")\n",
    "    f_path = os.path.join(PHC_DIR, f\"{district}_phc.geojson\")\n",
    "\n",
    "    if not os.path.exists(v_path) or not os.path.exists(f_path):\n",
    "        print(f\"❌ Missing files for {district}, skipping...\")\n",
    "        continue\n",
    "\n",
    "    villages = gpd.read_file(v_path).to_crs(epsg=4326)\n",
    "    phcs = gpd.read_file(f_path).to_crs(epsg=4326)\n",
    "\n",
    "    output_rows = []\n",
    "\n",
    "    for i, v_row in tqdm(villages.iterrows(), total=len(villages), desc=f\"⏱ Routing villages in {district}\"):\n",
    "        v_geom = v_row.geometry\n",
    "        v_id = v_row.get('village_id', i)\n",
    "\n",
    "        # Project geometries for Euclidean filtering\n",
    "        phcs_proj = phcs.to_crs(epsg=32644)\n",
    "        v_geom_proj = gpd.GeoSeries([v_geom], crs=4326).to_crs(epsg=32644).iloc[0]\n",
    "        phcs_proj['euclid_dist'] = phcs_proj.geometry.distance(v_geom_proj)\n",
    "\n",
    "        # Top 3 by Euclidean distance\n",
    "        nearest = phcs.loc[phcs_proj.sort_values('euclid_dist').index[:3]]\n",
    "\n",
    "        best_time = float('inf')\n",
    "        best_record = None\n",
    "\n",
    "        for _, f_row in nearest.iterrows():\n",
    "            f_geom = f_row.geometry\n",
    "            duration, distance = osrm_route(v_geom, f_geom)\n",
    "            if duration is not None and duration < best_time:\n",
    "                best_time = duration\n",
    "                best_record = {\n",
    "                    'village_id': v_id,\n",
    "                    'facility_id': f_row.get('facilityname', ''),\n",
    "                    'facility_type': 'phc',\n",
    "                    'duration_sec': duration,\n",
    "                    'distance_m': distance,\n",
    "                    'facility_lat': f_geom.y,\n",
    "                    'facility_lon': f_geom.x\n",
    "                }\n",
    "\n",
    "        if best_record:\n",
    "            output_rows.append(best_record)\n",
    "\n",
    "    df_out = pd.DataFrame(output_rows)\n",
    "    out_path = os.path.join(OUTPUT_DIR, f\"{district}_village_to_phc.csv\")\n",
    "    df_out.to_csv(out_path, index=False)\n",
    "    print(f\"✅ Saved: {out_path} [{len(df_out)} records]\")"
   ]
  },
  {
   "cell_type": "code",
   "execution_count": 26,
   "id": "eabd2e4b",
   "metadata": {},
   "outputs": [
    {
     "name": "stdout",
     "output_type": "stream",
     "text": [
      "\n",
      "🚀 Processing: ANUGUL\n"
     ]
    },
    {
     "name": "stderr",
     "output_type": "stream",
     "text": [
      "⏱ Routing villages in anugul: 100%|██████████| 1992/1992 [01:10<00:00, 28.37it/s]\n"
     ]
    },
    {
     "name": "stdout",
     "output_type": "stream",
     "text": [
      "✅ Saved: C:\\Users\\utkar\\OneDrive\\Desktop\\ClimateXTelemedicine Odisha\\Odisha_VScode\\.venv\\Policy note\\Outputs\\Districts\\anugul_village_to_sub_cen.csv [1992 records]\n",
      "\n",
      "🚀 Processing: BALANGIR\n"
     ]
    },
    {
     "name": "stderr",
     "output_type": "stream",
     "text": [
      "⏱ Routing villages in balangir: 100%|██████████| 1874/1874 [01:15<00:00, 24.78it/s]\n"
     ]
    },
    {
     "name": "stdout",
     "output_type": "stream",
     "text": [
      "✅ Saved: C:\\Users\\utkar\\OneDrive\\Desktop\\ClimateXTelemedicine Odisha\\Odisha_VScode\\.venv\\Policy note\\Outputs\\Districts\\balangir_village_to_sub_cen.csv [1874 records]\n",
      "\n",
      "🚀 Processing: BALESHWAR\n"
     ]
    },
    {
     "name": "stderr",
     "output_type": "stream",
     "text": [
      "⏱ Routing villages in baleshwar: 100%|██████████| 2947/2947 [01:49<00:00, 26.91it/s]\n"
     ]
    },
    {
     "name": "stdout",
     "output_type": "stream",
     "text": [
      "✅ Saved: C:\\Users\\utkar\\OneDrive\\Desktop\\ClimateXTelemedicine Odisha\\Odisha_VScode\\.venv\\Policy note\\Outputs\\Districts\\baleshwar_village_to_sub_cen.csv [2947 records]\n",
      "\n",
      "🚀 Processing: BARGARH\n"
     ]
    },
    {
     "name": "stderr",
     "output_type": "stream",
     "text": [
      "⏱ Routing villages in bargarh: 100%|██████████| 1280/1280 [00:50<00:00, 25.32it/s]\n"
     ]
    },
    {
     "name": "stdout",
     "output_type": "stream",
     "text": [
      "✅ Saved: C:\\Users\\utkar\\OneDrive\\Desktop\\ClimateXTelemedicine Odisha\\Odisha_VScode\\.venv\\Policy note\\Outputs\\Districts\\bargarh_village_to_sub_cen.csv [1280 records]\n",
      "\n",
      "🚀 Processing: BOUDH\n"
     ]
    },
    {
     "name": "stderr",
     "output_type": "stream",
     "text": [
      "⏱ Routing villages in boudh: 100%|██████████| 1233/1233 [00:46<00:00, 26.34it/s]\n"
     ]
    },
    {
     "name": "stdout",
     "output_type": "stream",
     "text": [
      "✅ Saved: C:\\Users\\utkar\\OneDrive\\Desktop\\ClimateXTelemedicine Odisha\\Odisha_VScode\\.venv\\Policy note\\Outputs\\Districts\\boudh_village_to_sub_cen.csv [1233 records]\n",
      "\n",
      "🚀 Processing: BHADRAK\n"
     ]
    },
    {
     "name": "stderr",
     "output_type": "stream",
     "text": [
      "⏱ Routing villages in bhadrak: 100%|██████████| 1318/1318 [00:48<00:00, 27.11it/s]\n"
     ]
    },
    {
     "name": "stdout",
     "output_type": "stream",
     "text": [
      "✅ Saved: C:\\Users\\utkar\\OneDrive\\Desktop\\ClimateXTelemedicine Odisha\\Odisha_VScode\\.venv\\Policy note\\Outputs\\Districts\\bhadrak_village_to_sub_cen.csv [1316 records]\n",
      "\n",
      "🚀 Processing: CUTTACK\n"
     ]
    },
    {
     "name": "stderr",
     "output_type": "stream",
     "text": [
      "⏱ Routing villages in cuttack: 100%|██████████| 1991/1991 [01:22<00:00, 24.07it/s]\n"
     ]
    },
    {
     "name": "stdout",
     "output_type": "stream",
     "text": [
      "✅ Saved: C:\\Users\\utkar\\OneDrive\\Desktop\\ClimateXTelemedicine Odisha\\Odisha_VScode\\.venv\\Policy note\\Outputs\\Districts\\cuttack_village_to_sub_cen.csv [1991 records]\n",
      "\n",
      "🚀 Processing: DEOGARH\n"
     ]
    },
    {
     "name": "stderr",
     "output_type": "stream",
     "text": [
      "⏱ Routing villages in deogarh: 100%|██████████| 906/906 [00:36<00:00, 25.12it/s]\n"
     ]
    },
    {
     "name": "stdout",
     "output_type": "stream",
     "text": [
      "✅ Saved: C:\\Users\\utkar\\OneDrive\\Desktop\\ClimateXTelemedicine Odisha\\Odisha_VScode\\.venv\\Policy note\\Outputs\\Districts\\deogarh_village_to_sub_cen.csv [906 records]\n",
      "\n",
      "🚀 Processing: DHENKANAL\n"
     ]
    },
    {
     "name": "stderr",
     "output_type": "stream",
     "text": [
      "⏱ Routing villages in dhenkanal: 100%|██████████| 1248/1248 [00:49<00:00, 25.01it/s]\n"
     ]
    },
    {
     "name": "stdout",
     "output_type": "stream",
     "text": [
      "✅ Saved: C:\\Users\\utkar\\OneDrive\\Desktop\\ClimateXTelemedicine Odisha\\Odisha_VScode\\.venv\\Policy note\\Outputs\\Districts\\dhenkanal_village_to_sub_cen.csv [1248 records]\n",
      "\n",
      "🚀 Processing: GAJAPATI\n"
     ]
    },
    {
     "name": "stderr",
     "output_type": "stream",
     "text": [
      "⏱ Routing villages in gajapati: 100%|██████████| 1646/1646 [01:00<00:00, 27.40it/s]\n"
     ]
    },
    {
     "name": "stdout",
     "output_type": "stream",
     "text": [
      "✅ Saved: C:\\Users\\utkar\\OneDrive\\Desktop\\ClimateXTelemedicine Odisha\\Odisha_VScode\\.venv\\Policy note\\Outputs\\Districts\\gajapati_village_to_sub_cen.csv [1646 records]\n",
      "\n",
      "🚀 Processing: GANJAM\n"
     ]
    },
    {
     "name": "stderr",
     "output_type": "stream",
     "text": [
      "⏱ Routing villages in ganjam: 100%|██████████| 3328/3328 [02:17<00:00, 24.24it/s]\n"
     ]
    },
    {
     "name": "stdout",
     "output_type": "stream",
     "text": [
      "✅ Saved: C:\\Users\\utkar\\OneDrive\\Desktop\\ClimateXTelemedicine Odisha\\Odisha_VScode\\.venv\\Policy note\\Outputs\\Districts\\ganjam_village_to_sub_cen.csv [3328 records]\n",
      "\n",
      "🚀 Processing: JAGATSINGHAPUR\n",
      "❌ Missing files for jagatsinghapur, skipping...\n",
      "\n",
      "🚀 Processing: JAJAPUR\n"
     ]
    },
    {
     "name": "stderr",
     "output_type": "stream",
     "text": [
      "⏱ Routing villages in jajapur: 100%|██████████| 1796/1796 [01:07<00:00, 26.60it/s]\n"
     ]
    },
    {
     "name": "stdout",
     "output_type": "stream",
     "text": [
      "✅ Saved: C:\\Users\\utkar\\OneDrive\\Desktop\\ClimateXTelemedicine Odisha\\Odisha_VScode\\.venv\\Policy note\\Outputs\\Districts\\jajapur_village_to_sub_cen.csv [1796 records]\n",
      "\n",
      "🚀 Processing: JHARSUGUDA\n"
     ]
    },
    {
     "name": "stderr",
     "output_type": "stream",
     "text": [
      "⏱ Routing villages in jharsuguda: 100%|██████████| 382/382 [00:18<00:00, 21.22it/s]\n"
     ]
    },
    {
     "name": "stdout",
     "output_type": "stream",
     "text": [
      "✅ Saved: C:\\Users\\utkar\\OneDrive\\Desktop\\ClimateXTelemedicine Odisha\\Odisha_VScode\\.venv\\Policy note\\Outputs\\Districts\\jharsuguda_village_to_sub_cen.csv [382 records]\n",
      "\n",
      "🚀 Processing: KALAHANDI\n"
     ]
    },
    {
     "name": "stderr",
     "output_type": "stream",
     "text": [
      "⏱ Routing villages in kalahandi: 100%|██████████| 2359/2359 [01:33<00:00, 25.31it/s]\n"
     ]
    },
    {
     "name": "stdout",
     "output_type": "stream",
     "text": [
      "✅ Saved: C:\\Users\\utkar\\OneDrive\\Desktop\\ClimateXTelemedicine Odisha\\Odisha_VScode\\.venv\\Policy note\\Outputs\\Districts\\kalahandi_village_to_sub_cen.csv [2359 records]\n",
      "\n",
      "🚀 Processing: KANDHAMAL\n"
     ]
    },
    {
     "name": "stderr",
     "output_type": "stream",
     "text": [
      "⏱ Routing villages in kandhamal: 100%|██████████| 2737/2737 [01:44<00:00, 26.27it/s]\n"
     ]
    },
    {
     "name": "stdout",
     "output_type": "stream",
     "text": [
      "✅ Saved: C:\\Users\\utkar\\OneDrive\\Desktop\\ClimateXTelemedicine Odisha\\Odisha_VScode\\.venv\\Policy note\\Outputs\\Districts\\kandhamal_village_to_sub_cen.csv [2737 records]\n",
      "\n",
      "🚀 Processing: KENDRAPARA\n"
     ]
    },
    {
     "name": "stderr",
     "output_type": "stream",
     "text": [
      "⏱ Routing villages in kendrapara: 100%|██████████| 1559/1559 [01:09<00:00, 22.50it/s]\n"
     ]
    },
    {
     "name": "stdout",
     "output_type": "stream",
     "text": [
      "✅ Saved: C:\\Users\\utkar\\OneDrive\\Desktop\\ClimateXTelemedicine Odisha\\Odisha_VScode\\.venv\\Policy note\\Outputs\\Districts\\kendrapara_village_to_sub_cen.csv [1559 records]\n",
      "\n",
      "🚀 Processing: KEONJHAR\n"
     ]
    },
    {
     "name": "stderr",
     "output_type": "stream",
     "text": [
      "⏱ Routing villages in keonjhar: 100%|██████████| 2181/2181 [01:24<00:00, 25.91it/s]\n"
     ]
    },
    {
     "name": "stdout",
     "output_type": "stream",
     "text": [
      "✅ Saved: C:\\Users\\utkar\\OneDrive\\Desktop\\ClimateXTelemedicine Odisha\\Odisha_VScode\\.venv\\Policy note\\Outputs\\Districts\\keonjhar_village_to_sub_cen.csv [2181 records]\n",
      "\n",
      "🚀 Processing: KHORDHA\n"
     ]
    },
    {
     "name": "stderr",
     "output_type": "stream",
     "text": [
      "⏱ Routing villages in khordha: 100%|██████████| 1547/1547 [00:59<00:00, 25.95it/s]\n"
     ]
    },
    {
     "name": "stdout",
     "output_type": "stream",
     "text": [
      "✅ Saved: C:\\Users\\utkar\\OneDrive\\Desktop\\ClimateXTelemedicine Odisha\\Odisha_VScode\\.venv\\Policy note\\Outputs\\Districts\\khordha_village_to_sub_cen.csv [1547 records]\n",
      "\n",
      "🚀 Processing: KORAPUT\n"
     ]
    },
    {
     "name": "stderr",
     "output_type": "stream",
     "text": [
      "⏱ Routing villages in koraput: 100%|██████████| 2227/2227 [01:30<00:00, 24.51it/s]\n"
     ]
    },
    {
     "name": "stdout",
     "output_type": "stream",
     "text": [
      "✅ Saved: C:\\Users\\utkar\\OneDrive\\Desktop\\ClimateXTelemedicine Odisha\\Odisha_VScode\\.venv\\Policy note\\Outputs\\Districts\\koraput_village_to_sub_cen.csv [2227 records]\n",
      "\n",
      "🚀 Processing: MALKANGIRI\n"
     ]
    },
    {
     "name": "stderr",
     "output_type": "stream",
     "text": [
      "⏱ Routing villages in malkangiri: 100%|██████████| 1142/1142 [00:44<00:00, 25.77it/s]\n"
     ]
    },
    {
     "name": "stdout",
     "output_type": "stream",
     "text": [
      "✅ Saved: C:\\Users\\utkar\\OneDrive\\Desktop\\ClimateXTelemedicine Odisha\\Odisha_VScode\\.venv\\Policy note\\Outputs\\Districts\\malkangiri_village_to_sub_cen.csv [1142 records]\n",
      "\n",
      "🚀 Processing: MAYURBHANJ\n"
     ]
    },
    {
     "name": "stderr",
     "output_type": "stream",
     "text": [
      "⏱ Routing villages in mayurbhanj: 100%|██████████| 3975/3975 [02:36<00:00, 25.47it/s]\n"
     ]
    },
    {
     "name": "stdout",
     "output_type": "stream",
     "text": [
      "✅ Saved: C:\\Users\\utkar\\OneDrive\\Desktop\\ClimateXTelemedicine Odisha\\Odisha_VScode\\.venv\\Policy note\\Outputs\\Districts\\mayurbhanj_village_to_sub_cen.csv [3975 records]\n",
      "\n",
      "🚀 Processing: NABARANGPUR\n",
      "❌ Missing files for nabarangpur, skipping...\n",
      "\n",
      "🚀 Processing: NAYAGARH\n"
     ]
    },
    {
     "name": "stderr",
     "output_type": "stream",
     "text": [
      "⏱ Routing villages in nayagarh: 100%|██████████| 1755/1755 [01:03<00:00, 27.63it/s]\n"
     ]
    },
    {
     "name": "stdout",
     "output_type": "stream",
     "text": [
      "✅ Saved: C:\\Users\\utkar\\OneDrive\\Desktop\\ClimateXTelemedicine Odisha\\Odisha_VScode\\.venv\\Policy note\\Outputs\\Districts\\nayagarh_village_to_sub_cen.csv [1755 records]\n",
      "\n",
      "🚀 Processing: NUAPADA\n"
     ]
    },
    {
     "name": "stderr",
     "output_type": "stream",
     "text": [
      "⏱ Routing villages in nuapada: 100%|██████████| 719/719 [00:27<00:00, 26.46it/s]\n"
     ]
    },
    {
     "name": "stdout",
     "output_type": "stream",
     "text": [
      "✅ Saved: C:\\Users\\utkar\\OneDrive\\Desktop\\ClimateXTelemedicine Odisha\\Odisha_VScode\\.venv\\Policy note\\Outputs\\Districts\\nuapada_village_to_sub_cen.csv [719 records]\n",
      "\n",
      "🚀 Processing: PURI\n"
     ]
    },
    {
     "name": "stderr",
     "output_type": "stream",
     "text": [
      "⏱ Routing villages in puri: 100%|██████████| 1716/1716 [01:14<00:00, 23.03it/s]\n"
     ]
    },
    {
     "name": "stdout",
     "output_type": "stream",
     "text": [
      "✅ Saved: C:\\Users\\utkar\\OneDrive\\Desktop\\ClimateXTelemedicine Odisha\\Odisha_VScode\\.venv\\Policy note\\Outputs\\Districts\\puri_village_to_sub_cen.csv [1716 records]\n",
      "\n",
      "🚀 Processing: RAYAGADA\n"
     ]
    },
    {
     "name": "stderr",
     "output_type": "stream",
     "text": [
      "⏱ Routing villages in rayagada: 100%|██████████| 2824/2824 [01:45<00:00, 26.85it/s]\n"
     ]
    },
    {
     "name": "stdout",
     "output_type": "stream",
     "text": [
      "✅ Saved: C:\\Users\\utkar\\OneDrive\\Desktop\\ClimateXTelemedicine Odisha\\Odisha_VScode\\.venv\\Policy note\\Outputs\\Districts\\rayagada_village_to_sub_cen.csv [2824 records]\n",
      "\n",
      "🚀 Processing: SAMBALPUR\n"
     ]
    },
    {
     "name": "stderr",
     "output_type": "stream",
     "text": [
      "⏱ Routing villages in sambalpur: 100%|██████████| 1414/1414 [00:54<00:00, 26.07it/s]\n"
     ]
    },
    {
     "name": "stdout",
     "output_type": "stream",
     "text": [
      "✅ Saved: C:\\Users\\utkar\\OneDrive\\Desktop\\ClimateXTelemedicine Odisha\\Odisha_VScode\\.venv\\Policy note\\Outputs\\Districts\\sambalpur_village_to_sub_cen.csv [1414 records]\n",
      "\n",
      "🚀 Processing: SONEPUR\n"
     ]
    },
    {
     "name": "stderr",
     "output_type": "stream",
     "text": [
      "⏱ Routing villages in sonepur: 100%|██████████| 1000/1000 [00:40<00:00, 24.84it/s]\n"
     ]
    },
    {
     "name": "stdout",
     "output_type": "stream",
     "text": [
      "✅ Saved: C:\\Users\\utkar\\OneDrive\\Desktop\\ClimateXTelemedicine Odisha\\Odisha_VScode\\.venv\\Policy note\\Outputs\\Districts\\sonepur_village_to_sub_cen.csv [1000 records]\n",
      "\n",
      "🚀 Processing: SUNDARGARH\n"
     ]
    },
    {
     "name": "stderr",
     "output_type": "stream",
     "text": [
      "⏱ Routing villages in sundargarh: 100%|██████████| 1931/1931 [01:13<00:00, 26.43it/s]"
     ]
    },
    {
     "name": "stdout",
     "output_type": "stream",
     "text": [
      "✅ Saved: C:\\Users\\utkar\\OneDrive\\Desktop\\ClimateXTelemedicine Odisha\\Odisha_VScode\\.venv\\Policy note\\Outputs\\Districts\\sundargarh_village_to_sub_cen.csv [1931 records]\n"
     ]
    },
    {
     "name": "stderr",
     "output_type": "stream",
     "text": [
      "\n"
     ]
    }
   ],
   "source": [
    "import os\n",
    "import requests\n",
    "import geopandas as gpd\n",
    "import pandas as pd\n",
    "from shapely.geometry import Point\n",
    "from tqdm import tqdm\n",
    "\n",
    "# === PATHS ===\n",
    "VILLAGE_DIR = r\"C:\\Users\\utkar\\OneDrive\\Desktop\\ClimateXTelemedicine Odisha\\Odisha_VScode\\.venv\\Policy note\\Snapped_districts\"\n",
    "FACILITY_DIR = r\"C:\\Users\\utkar\\OneDrive\\Desktop\\ClimateXTelemedicine Odisha\\Odisha_VScode\\.venv\\Policy note\\Snapped_Facilities\"\n",
    "OUTPUT_DIR = r\"C:\\Users\\utkar\\OneDrive\\Desktop\\ClimateXTelemedicine Odisha\\Odisha_VScode\\.venv\\Policy note\\Outputs\\Districts\"\n",
    "os.makedirs(OUTPUT_DIR, exist_ok=True)\n",
    "\n",
    "# === ALL 30 DISTRICTS ===\n",
    "districts = [\n",
    "    'anugul', 'balangir', 'baleshwar', 'bargarh', 'boudh',\n",
    "    'bhadrak', 'cuttack', 'deogarh', 'dhenkanal', 'gajapati',\n",
    "    'ganjam', 'jagatsinghapur', 'jajapur', 'jharsuguda', 'kalahandi',\n",
    "    'kandhamal', 'kendrapara', 'keonjhar', 'khordha', 'koraput',\n",
    "    'malkangiri', 'mayurbhanj', 'nabarangpur', 'nayagarh', 'nuapada',\n",
    "    'puri', 'rayagada', 'sambalpur', 'sonepur', 'sundargarh'\n",
    "]\n",
    "\n",
    "# === OSRM ROUTING FUNCTION ===\n",
    "def osrm_route(src, dst):\n",
    "    url = f\"http://localhost:5000/route/v1/driving/{src.x},{src.y};{dst.x},{dst.y}?overview=false\"\n",
    "    try:\n",
    "        r = requests.get(url)\n",
    "        data = r.json()\n",
    "        if r.status_code == 200 and 'routes' in data:\n",
    "            duration = data['routes'][0]['duration']\n",
    "            distance = data['routes'][0]['distance']\n",
    "            return duration, distance\n",
    "    except:\n",
    "        return None, None\n",
    "    return None, None\n",
    "\n",
    "# === ROUTE ALL DISTRICTS ===\n",
    "for district in districts:\n",
    "    print(f\"\\n🚀 Processing: {district.upper()}\")\n",
    "\n",
    "    v_path = os.path.join(VILLAGE_DIR, f\"{district}_villages_snapped.geojson\")\n",
    "    f_path = os.path.join(FACILITY_DIR, f\"{district}_sub_cen.geojson\")\n",
    "\n",
    "    if not os.path.exists(v_path) or not os.path.exists(f_path):\n",
    "        print(f\"❌ Missing files for {district}, skipping...\")\n",
    "        continue\n",
    "\n",
    "    villages = gpd.read_file(v_path).to_crs(epsg=4326)\n",
    "    sub_cens = gpd.read_file(f_path).to_crs(epsg=4326)\n",
    "\n",
    "    output_rows = []\n",
    "\n",
    "    for i, v_row in tqdm(villages.iterrows(), total=len(villages), desc=f\"⏱ Routing villages in {district}\"):\n",
    "        v_geom = v_row.geometry\n",
    "        v_id = v_row.get('village_id', i)\n",
    "\n",
    "        # Euclidean distance filter (projected)\n",
    "        sub_cens_proj = sub_cens.to_crs(epsg=32644)\n",
    "        v_geom_proj = gpd.GeoSeries([v_geom], crs=4326).to_crs(epsg=32644).iloc[0]\n",
    "        sub_cens_proj['euclid_dist'] = sub_cens_proj.geometry.distance(v_geom_proj)\n",
    "\n",
    "        nearest = sub_cens.loc[sub_cens_proj.sort_values('euclid_dist').index[:3]]\n",
    "\n",
    "        best_time = float('inf')\n",
    "        best_record = None\n",
    "\n",
    "        for _, f_row in nearest.iterrows():\n",
    "            f_geom = f_row.geometry\n",
    "            duration, distance = osrm_route(v_geom, f_geom)\n",
    "            if duration is not None and duration < best_time:\n",
    "                best_time = duration\n",
    "                best_record = {\n",
    "                    'village_id': v_id,\n",
    "                    'facility_id': f_row.get('facilityname', ''),\n",
    "                    'facility_type': 'sub_cen',\n",
    "                    'duration_sec': duration,\n",
    "                    'distance_m': distance,\n",
    "                    'facility_lat': f_geom.y,\n",
    "                    'facility_lon': f_geom.x\n",
    "                }\n",
    "\n",
    "        if best_record:\n",
    "            output_rows.append(best_record)\n",
    "\n",
    "    df_out = pd.DataFrame(output_rows)\n",
    "    out_path = os.path.join(OUTPUT_DIR, f\"{district}_village_to_sub_cen.csv\")\n",
    "    df_out.to_csv(out_path, index=False)\n",
    "    print(f\"✅ Saved: {out_path} [{len(df_out)} records]\")"
   ]
  },
  {
   "cell_type": "code",
   "execution_count": 27,
   "id": "52d01d93",
   "metadata": {},
   "outputs": [
    {
     "name": "stdout",
     "output_type": "stream",
     "text": [
      "\n",
      "🚀 Processing: NABARANGPUR\n",
      "❌ Missing files for nabarangpur, skipping...\n",
      "\n",
      "🚀 Processing: BOUDH\n"
     ]
    },
    {
     "name": "stderr",
     "output_type": "stream",
     "text": [
      "⏱ Routing villages in boudh: 100%|██████████| 1233/1233 [00:45<00:00, 27.06it/s]"
     ]
    },
    {
     "name": "stdout",
     "output_type": "stream",
     "text": [
      "✅ Saved: C:\\Users\\utkar\\OneDrive\\Desktop\\ClimateXTelemedicine Odisha\\Odisha_VScode\\.venv\\Policy note\\Outputs\\Districts\\boudh_village_to_sub_cen.csv [1233 records]\n",
      "\n",
      "🚀 Processing: JAGATSINGHAPUR\n",
      "❌ Missing files for jagatsinghapur, skipping...\n"
     ]
    },
    {
     "name": "stderr",
     "output_type": "stream",
     "text": [
      "\n"
     ]
    }
   ],
   "source": [
    "import os\n",
    "import requests\n",
    "import geopandas as gpd\n",
    "import pandas as pd\n",
    "from shapely.geometry import Point\n",
    "from tqdm import tqdm\n",
    "\n",
    "# === PATHS ===\n",
    "VILLAGE_DIR = r\"C:\\Users\\utkar\\OneDrive\\Desktop\\ClimateXTelemedicine Odisha\\Odisha_VScode\\.venv\\Policy note\\Snapped_districts\"\n",
    "FACILITY_DIR = r\"C:\\Users\\utkar\\OneDrive\\Desktop\\ClimateXTelemedicine Odisha\\Odisha_VScode\\.venv\\Policy note\\Snapped_Facilities\"\n",
    "OUTPUT_DIR = r\"C:\\Users\\utkar\\OneDrive\\Desktop\\ClimateXTelemedicine Odisha\\Odisha_VScode\\.venv\\Policy note\\Outputs\\Districts\"\n",
    "os.makedirs(OUTPUT_DIR, exist_ok=True)\n",
    "\n",
    "# === DISTRICTS ===\n",
    "districts = ['nabarangpur', 'boudh', 'jagatsinghapur']\n",
    "\n",
    "# === Manual file overrides ===\n",
    "facility_files = {\n",
    "    'nabarangpur': 'nabarangapur_sub_cen.geojson',\n",
    "    'boudh': 'boudh_sub_cen.geojson',\n",
    "    'jagatsinghapur': 'jagatsinghpur_sub_cen.geojson',\n",
    "}\n",
    "\n",
    "# === OSRM routing function ===\n",
    "def osrm_route(src, dst):\n",
    "    url = f\"http://localhost:5000/route/v1/driving/{src.x},{src.y};{dst.x},{dst.y}?overview=false\"\n",
    "    try:\n",
    "        r = requests.get(url)\n",
    "        data = r.json()\n",
    "        if r.status_code == 200 and 'routes' in data:\n",
    "            return data['routes'][0]['duration'], data['routes'][0]['distance']\n",
    "    except:\n",
    "        return None, None\n",
    "    return None, None\n",
    "\n",
    "# === Process each district ===\n",
    "for district in districts:\n",
    "    print(f\"\\n🚀 Processing: {district.upper()}\")\n",
    "\n",
    "    v_path = os.path.join(VILLAGE_DIR, f\"{district}_villages_snapped.geojson\")\n",
    "    f_path = os.path.join(FACILITY_DIR, facility_files[district])\n",
    "\n",
    "    if not os.path.exists(v_path) or not os.path.exists(f_path):\n",
    "        print(f\"❌ Missing files for {district}, skipping...\")\n",
    "        continue\n",
    "\n",
    "    villages = gpd.read_file(v_path).to_crs(epsg=4326)\n",
    "    sub_cens = gpd.read_file(f_path).to_crs(epsg=4326)\n",
    "\n",
    "    output_rows = []\n",
    "\n",
    "    for i, v_row in tqdm(villages.iterrows(), total=len(villages), desc=f\"⏱ Routing villages in {district}\"):\n",
    "        v_geom = v_row.geometry\n",
    "        v_id = v_row.get('village_id', i)\n",
    "\n",
    "        # Project to metric CRS for Euclidean filtering\n",
    "        sub_proj = sub_cens.to_crs(epsg=32644)\n",
    "        v_proj = gpd.GeoSeries([v_geom], crs=4326).to_crs(epsg=32644).iloc[0]\n",
    "        sub_proj['euclid_dist'] = sub_proj.geometry.distance(v_proj)\n",
    "\n",
    "        nearest = sub_cens.loc[sub_proj.sort_values('euclid_dist').index[:3]]\n",
    "\n",
    "        best_time = float('inf')\n",
    "        best_record = None\n",
    "\n",
    "        for _, f_row in nearest.iterrows():\n",
    "            f_geom = f_row.geometry\n",
    "            duration, distance = osrm_route(v_geom, f_geom)\n",
    "            if duration is not None and duration < best_time:\n",
    "                best_time = duration\n",
    "                best_record = {\n",
    "                    'village_id': v_id,\n",
    "                    'facility_id': f_row.get('facilityname', ''),\n",
    "                    'facility_type': 'sub_cen',\n",
    "                    'duration_sec': duration,\n",
    "                    'distance_m': distance,\n",
    "                    'facility_lat': f_geom.y,\n",
    "                    'facility_lon': f_geom.x\n",
    "                }\n",
    "\n",
    "        if best_record:\n",
    "            output_rows.append(best_record)\n",
    "\n",
    "    df_out = pd.DataFrame(output_rows)\n",
    "    out_path = os.path.join(OUTPUT_DIR, f\"{district}_village_to_sub_cen.csv\")\n",
    "    df_out.to_csv(out_path, index=False)\n",
    "    print(f\"✅ Saved: {out_path} [{len(df_out)} records]\")"
   ]
  },
  {
   "cell_type": "code",
   "execution_count": 28,
   "id": "4369cdbb",
   "metadata": {},
   "outputs": [
    {
     "name": "stdout",
     "output_type": "stream",
     "text": [
      "\n",
      "🚀 Processing: JAGATSINGHPUR\n"
     ]
    },
    {
     "name": "stderr",
     "output_type": "stream",
     "text": [
      "⏱ Routing villages in jagatsinghpur: 100%|██████████| 1300/1300 [00:57<00:00, 22.63it/s]\n"
     ]
    },
    {
     "name": "stdout",
     "output_type": "stream",
     "text": [
      "✅ Saved: C:\\Users\\utkar\\OneDrive\\Desktop\\ClimateXTelemedicine Odisha\\Odisha_VScode\\.venv\\Policy note\\Outputs\\Districts\\jagatsinghpur_village_to_sub_cen.csv [1300 records]\n",
      "\n",
      "🚀 Processing: NABARANGAPUR\n"
     ]
    },
    {
     "name": "stderr",
     "output_type": "stream",
     "text": [
      "⏱ Routing villages in nabarangapur: 100%|██████████| 943/943 [00:37<00:00, 25.31it/s]"
     ]
    },
    {
     "name": "stdout",
     "output_type": "stream",
     "text": [
      "✅ Saved: C:\\Users\\utkar\\OneDrive\\Desktop\\ClimateXTelemedicine Odisha\\Odisha_VScode\\.venv\\Policy note\\Outputs\\Districts\\nabarangapur_village_to_sub_cen.csv [943 records]\n"
     ]
    },
    {
     "name": "stderr",
     "output_type": "stream",
     "text": [
      "\n"
     ]
    }
   ],
   "source": [
    "import os\n",
    "import requests\n",
    "import geopandas as gpd\n",
    "import pandas as pd\n",
    "from tqdm import tqdm\n",
    "\n",
    "# === PATHS ===\n",
    "VILLAGE_DIR = r\"C:\\Users\\utkar\\OneDrive\\Desktop\\ClimateXTelemedicine Odisha\\Odisha_VScode\\.venv\\Policy note\\Snapped_districts\"\n",
    "FACILITY_DIR = r\"C:\\Users\\utkar\\OneDrive\\Desktop\\ClimateXTelemedicine Odisha\\Odisha_VScode\\.venv\\Policy note\\Snapped_Facilities\"\n",
    "OUTPUT_DIR = r\"C:\\Users\\utkar\\OneDrive\\Desktop\\ClimateXTelemedicine Odisha\\Odisha_VScode\\.venv\\Policy note\\Outputs\\Districts\"\n",
    "os.makedirs(OUTPUT_DIR, exist_ok=True)\n",
    "\n",
    "districts = ['jagatsinghpur', 'nabarangapur']\n",
    "\n",
    "def osrm_route(src, dst):\n",
    "    url = f\"http://localhost:5000/route/v1/driving/{src.x},{src.y};{dst.x},{dst.y}?overview=false\"\n",
    "    try:\n",
    "        r = requests.get(url)\n",
    "        data = r.json()\n",
    "        if r.status_code == 200 and 'routes' in data:\n",
    "            return data['routes'][0]['duration'], data['routes'][0]['distance']\n",
    "    except:\n",
    "        return None, None\n",
    "    return None, None\n",
    "\n",
    "for district in districts:\n",
    "    print(f\"\\n🚀 Processing: {district.upper()}\")\n",
    "\n",
    "    v_path = os.path.join(VILLAGE_DIR, f\"{district}_villages_snapped.geojson\")\n",
    "    f_path = os.path.join(FACILITY_DIR, f\"{district}_sub_cen.geojson\")\n",
    "\n",
    "    if not os.path.exists(v_path) or not os.path.exists(f_path):\n",
    "        print(f\"❌ Missing files for {district}, skipping...\")\n",
    "        continue\n",
    "\n",
    "    villages = gpd.read_file(v_path).to_crs(epsg=4326)\n",
    "    facilities = gpd.read_file(f_path).to_crs(epsg=4326)\n",
    "\n",
    "    output_rows = []\n",
    "\n",
    "    for i, v_row in tqdm(villages.iterrows(), total=len(villages), desc=f\"⏱ Routing villages in {district}\"):\n",
    "        v_geom = v_row.geometry\n",
    "        v_id = v_row.get('village_id', i)\n",
    "\n",
    "        fac_proj = facilities.to_crs(epsg=32644)\n",
    "        v_proj = gpd.GeoSeries([v_geom], crs=4326).to_crs(epsg=32644).iloc[0]\n",
    "        fac_proj['euclid_dist'] = fac_proj.geometry.distance(v_proj)\n",
    "        nearest = facilities.loc[fac_proj.sort_values('euclid_dist').index[:3]]\n",
    "\n",
    "        best_time = float('inf')\n",
    "        best_record = None\n",
    "\n",
    "        for _, f_row in nearest.iterrows():\n",
    "            f_geom = f_row.geometry\n",
    "            duration, distance = osrm_route(v_geom, f_geom)\n",
    "            if duration is not None and duration < best_time:\n",
    "                best_time = duration\n",
    "                best_record = {\n",
    "                    'village_id': v_id,\n",
    "                    'facility_id': f_row.get('facilityname', ''),\n",
    "                    'facility_type': 'sub_cen',\n",
    "                    'duration_sec': duration,\n",
    "                    'distance_m': distance,\n",
    "                    'facility_lat': f_geom.y,\n",
    "                    'facility_lon': f_geom.x\n",
    "                }\n",
    "\n",
    "        if best_record:\n",
    "            output_rows.append(best_record)\n",
    "\n",
    "    df_out = pd.DataFrame(output_rows)\n",
    "    out_path = os.path.join(OUTPUT_DIR, f\"{district}_village_to_sub_cen.csv\")\n",
    "    df_out.to_csv(out_path, index=False)\n",
    "    print(f\"✅ Saved: {out_path} [{len(df_out)} records]\")"
   ]
  },
  {
   "cell_type": "code",
   "execution_count": null,
   "id": "f7b50452",
   "metadata": {},
   "outputs": [],
   "source": [
    "import os\n",
    "import geopandas as gpd\n",
    "import pandas as pd\n",
    "import requests\n",
    "from tqdm import tqdm\n",
    "\n",
    "# === CONFIG ===\n",
    "FACILITY_TYPES = {\n",
    "    'chc': 'chc',\n",
    "    's_t_h': 's_t_h'\n",
    "}\n",
    "\n",
    "SNAPPED_VILLAGE_DIR = r\"C:\\Users\\utkar\\OneDrive\\Desktop\\ClimateXTelemedicine Odisha\\Odisha_VScode\\.venv\\Policy note\\Snapped_districts\"\n",
    "SNAPPED_FACILITY_DIR = r\"C:\\Users\\utkar\\OneDrive\\Desktop\\ClimateXTelemedicine Odisha\\Odisha_VScode\\.venv\\Policy note\\Snapped_Facilities\"\n",
    "OUTPUT_DIR = r\"C:\\Users\\utkar\\OneDrive\\Desktop\\ClimateXTelemedicine Odisha\\Odisha_VScode\\.venv\\Policy note\\Outputs\\Districts\"\n",
    "os.makedirs(OUTPUT_DIR, exist_ok=True)\n",
    "\n",
    "DISTRICTS = [f.split('_')[0] for f in os.listdir(SNAPPED_VILLAGE_DIR) if f.endswith(\".geojson\")]\n",
    "DISTRICTS = sorted(set(DISTRICTS))  # deduplicate\n",
    "\n",
    "# === OSRM Routing Function ===\n",
    "def osrm_route(src, dst):\n",
    "    url = f\"http://localhost:5000/route/v1/driving/{src.x},{src.y};{dst.x},{dst.y}?overview=false\"\n",
    "    try:\n",
    "        r = requests.get(url)\n",
    "        data = r.json()\n",
    "        if r.status_code == 200 and 'routes' in data:\n",
    "            return data['routes'][0]['duration'], data['routes'][0]['distance']\n",
    "    except:\n",
    "        return None, None\n",
    "    return None, None\n",
    "\n",
    "# === MAIN ROUTING ===\n",
    "for facility_type, f_key in FACILITY_TYPES.items():\n",
    "    print(f\"\\n🔁 Starting Routing: {facility_type.upper()}\")\n",
    "\n",
    "    for district in DISTRICTS:\n",
    "        print(f\"\\n🚀 Processing {district.upper()} [{facility_type}]\")\n",
    "\n",
    "        # Paths\n",
    "        v_path = os.path.join(SNAPPED_VILLAGE_DIR, f\"{district}_villages_snapped.geojson\")\n",
    "        f_path = os.path.join(SNAPPED_FACILITY_DIR, f\"{district}_{f_key}.geojson\")\n",
    "        out_path = os.path.join(OUTPUT_DIR, f\"{district}_village_to_{f_key}.csv\")\n",
    "\n",
    "        if not os.path.exists(v_path) or not os.path.exists(f_path):\n",
    "            print(f\"❌ Missing files for {district} [{f_key}], skipping...\")\n",
    "            continue\n",
    "\n",
    "        # Load\n",
    "        villages = gpd.read_file(v_path).to_crs(epsg=4326)\n",
    "        facilities = gpd.read_file(f_path).to_crs(epsg=4326)\n",
    "\n",
    "        rows = []\n",
    "\n",
    "        for i, v_row in tqdm(villages.iterrows(), total=len(villages), desc=f\"⏱ Routing villages in {district}\"):\n",
    "            v_geom = v_row.geometry\n",
    "            v_id = v_row.get('village_id', i)\n",
    "\n",
    "            # Filter top-3 by Euclidean distance in projected CRS\n",
    "            fac_proj = facilities.to_crs(epsg=32644)\n",
    "            v_proj = gpd.GeoSeries([v_geom], crs=4326).to_crs(epsg=32644).iloc[0]\n",
    "            fac_proj['euclid_dist'] = fac_proj.geometry.distance(v_proj)\n",
    "            nearest = facilities.loc[fac_proj.sort_values('euclid_dist').index[:3]]\n",
    "\n",
    "            # Route to top-3, keep best\n",
    "            best_time = float('inf')\n",
    "            best_record = None\n",
    "\n",
    "            for _, f_row in nearest.iterrows():\n",
    "                f_geom = f_row.geometry\n",
    "                duration, distance = osrm_route(v_geom, f_geom)\n",
    "                if duration is not None and duration < best_time:\n",
    "                    best_time = duration\n",
    "                    best_record = {\n",
    "                        'village_id': v_id,\n",
    "                        'facility_id': f_row.get('facilityname', ''),\n",
    "                        'facility_type': f_key,\n",
    "                        'duration_sec': duration,\n",
    "                        'distance_m': distance,\n",
    "                        'facility_lat': f_geom.y,\n",
    "                        'facility_lon': f_geom.x\n",
    "                    }\n",
    "\n",
    "            if best_record:\n",
    "                rows.append(best_record)\n",
    "\n",
    "        df = pd.DataFrame(rows)\n",
    "        df.to_csv(out_path, index=False)\n",
    "        print(f\"✅ Saved: {out_path} [{len(df)} records]\")"
   ]
  },
  {
   "cell_type": "code",
   "execution_count": 33,
   "id": "bae4ceee",
   "metadata": {},
   "outputs": [],
   "source": [
    "import os\n",
    "import pandas as pd\n",
    "\n",
    "# 📁 Folder with routing outputs\n",
    "OUTPUT_DIR = r\"C:\\Users\\utkar\\OneDrive\\Desktop\\ClimateXTelemedicine Odisha\\Odisha_VScode\\.venv\\Policy note\\Outputs\\Districts\"\n",
    "\n",
    "# 🏙️ All 30 standardized districts\n",
    "districts = sorted([\n",
    "    'anugul', 'balangir', 'baleshwar', 'bargarh', 'bhadrak', 'boudh', 'cuttack', 'deogarh',\n",
    "    'dhenkanal', 'gajapati', 'ganjam', 'jagatsinghpur', 'jajapur', 'jharsuguda', 'kalahandi',\n",
    "    'kandhamal', 'kendrapara', 'keonjhar', 'khordha', 'koraput', 'malkangiri', 'mayurbhanj',\n",
    "    'nabarangapur', 'nayagarh', 'nuapada', 'puri', 'rayagada', 'sambalpur', 'sonepur', 'sundargarh'\n",
    "])\n",
    "\n",
    "# 🚑 Facility types you're routing for\n",
    "facility_types = ['phc', 'chc', 'hwc', 'sdh', 'sth', 's_t_h']"
   ]
  },
  {
   "cell_type": "code",
   "execution_count": null,
   "id": "528cbed7",
   "metadata": {},
   "outputs": [],
   "source": [
    "# 📝 Record existence status for each district + facility type\n",
    "records = []\n",
    "\n",
    "for district in districts:\n",
    "    for ftype in facility_types:\n",
    "        filename = f\"{district}_village_to_{ftype}.csv\"\n",
    "        full_path = os.path.join(OUTPUT_DIR, filename)\n",
    "        records.append({\n",
    "            \"district\": district,\n",
    "            \"facility_type\": ftype,\n",
    "            \"file_name\": filename,\n",
    "            \"exists\": os.path.exists(full_path)\n",
    "        })\n",
    "\n",
    "# 📊 Create DataFrame\n",
    "df_routing_check = pd.DataFrame(records)\n",
    "df_routing_check.head()"
   ]
  },
  {
   "cell_type": "code",
   "execution_count": null,
   "id": "69a3adaf",
   "metadata": {},
   "outputs": [],
   "source": [
    "# ❌ Filter missing files\n",
    "missing = df_routing_check[df_routing_check['exists'] == False]\n",
    "\n",
    "print(f\"❌ Total missing routing files: {len(missing)}\")\n",
    "display(missing[['district', 'facility_type', 'file_name']])\n",
    "\n",
    "# 📈 Summary by facility type\n",
    "summary = df_routing_check.groupby('facility_type')['exists'].sum().reset_index()\n",
    "summary.columns = ['facility_type', 'files_found']\n",
    "summary['expected'] = len(districts)\n",
    "summary['missing'] = summary['expected'] - summary['files_found']\n",
    "\n",
    "print(\"\\n📊 Routing coverage by facility type:\")\n",
    "display(summary)"
   ]
  },
  {
   "cell_type": "code",
   "execution_count": 36,
   "id": "df473540",
   "metadata": {},
   "outputs": [],
   "source": [
    "import os\n",
    "import pandas as pd\n",
    "\n",
    "ROUTING_DIR = r\"C:\\Users\\utkar\\OneDrive\\Desktop\\ClimateXTelemedicine Odisha\\Odisha_VScode\\.venv\\Policy note\\Outputs\\Districts\"\n",
    "\n",
    "districts = sorted([\n",
    "    'anugul', 'balangir', 'baleshwar', 'bargarh', 'bhadrak', 'boudh', 'cuttack', 'deogarh',\n",
    "    'dhenkanal', 'gajapati', 'ganjam', 'jagatsinghpur', 'jajapur', 'jharsuguda', 'kalahandi',\n",
    "    'kandhamal', 'kendrapara', 'keonjhar', 'khordha', 'koraput', 'malkangiri', 'mayurbhanj',\n",
    "    'nabarangapur', 'nayagarh', 'nuapada', 'puri', 'rayagada', 'sambalpur', 'sonepur', 'sundargarh'\n",
    "])"
   ]
  },
  {
   "cell_type": "code",
   "execution_count": null,
   "id": "108a864e",
   "metadata": {},
   "outputs": [],
   "source": [
    "# Check for sub_cen routing files\n",
    "subcen_records = []\n",
    "\n",
    "for district in districts:\n",
    "    filename = f\"{district}_village_to_sub_cen.csv\"\n",
    "    exists = os.path.exists(os.path.join(ROUTING_DIR, filename))\n",
    "    subcen_records.append({\n",
    "        \"district\": district,\n",
    "        \"file\": filename,\n",
    "        \"exists\": exists\n",
    "    })\n",
    "\n",
    "df_subcen_check = pd.DataFrame(subcen_records)\n",
    "\n",
    "missing_subcen = df_subcen_check[df_subcen_check['exists'] == False]\n",
    "\n",
    "print(\"✅ HWC (sub_cen) routing status:\")\n",
    "display(df_subcen_check)\n",
    "\n",
    "print(f\"\\n❌ Missing sub_cen routing files: {len(missing_subcen)}\")\n",
    "display(missing_subcen[['district', 'file']])"
   ]
  },
  {
   "cell_type": "code",
   "execution_count": null,
   "id": "dc4691e1",
   "metadata": {},
   "outputs": [],
   "source": [
    "# Check for phc routing files\n",
    "phc_records = []\n",
    "\n",
    "for district in districts:\n",
    "    filename = f\"{district}_village_to_phc.csv\"\n",
    "    exists = os.path.exists(os.path.join(ROUTING_DIR, filename))\n",
    "    phc_records.append({\n",
    "        \"district\": district,\n",
    "        \"file\": filename,\n",
    "        \"exists\": exists\n",
    "    })\n",
    "\n",
    "df_phc_check = pd.DataFrame(phc_records)\n",
    "\n",
    "missing_phc = df_phc_check[df_phc_check['exists'] == False]\n",
    "\n",
    "print(\"✅ PHC routing status:\")\n",
    "display(df_phc_check)\n",
    "\n",
    "print(f\"\\n❌ Missing PHC routing files: {len(missing_phc)}\")\n",
    "display(missing_phc[['district', 'file']])"
   ]
  },
  {
   "cell_type": "code",
   "execution_count": 40,
   "id": "03843ced",
   "metadata": {},
   "outputs": [
    {
     "name": "stdout",
     "output_type": "stream",
     "text": [
      "\n",
      "🚀 Processing PHC: BOUDH\n"
     ]
    },
    {
     "name": "stderr",
     "output_type": "stream",
     "text": [
      "⏱ Routing villages in boudh:   0%|          | 0/1233 [00:00<?, ?it/s]C:\\Users\\utkar\\AppData\\Local\\Temp\\ipykernel_78684\\1940659376.py:54: UserWarning: Geometry is in a geographic CRS. Results from 'distance' are likely incorrect. Use 'GeoSeries.to_crs()' to re-project geometries to a projected CRS before this operation.\n",
      "\n",
      "  phcs['euclid_dist'] = phcs.geometry.distance(v_geom)\n",
      "⏱ Routing villages in boudh:   0%|          | 1/1233 [00:00<08:12,  2.50it/s]C:\\Users\\utkar\\AppData\\Local\\Temp\\ipykernel_78684\\1940659376.py:54: UserWarning: Geometry is in a geographic CRS. Results from 'distance' are likely incorrect. Use 'GeoSeries.to_crs()' to re-project geometries to a projected CRS before this operation.\n",
      "\n",
      "  phcs['euclid_dist'] = phcs.geometry.distance(v_geom)\n",
      "⏱ Routing villages in boudh: 100%|██████████| 1233/1233 [01:01<00:00, 20.11it/s]\n"
     ]
    },
    {
     "name": "stdout",
     "output_type": "stream",
     "text": [
      "✅ Saved: C:\\Users\\utkar\\OneDrive\\Desktop\\ClimateXTelemedicine Odisha\\Odisha_VScode\\.venv\\Policy note\\Outputs\\Districts\\boudh_village_to_phc.csv [1233 records]\n",
      "\n",
      "🚀 Processing PHC: JAGATSINGHPUR\n"
     ]
    },
    {
     "name": "stderr",
     "output_type": "stream",
     "text": [
      "⏱ Routing villages in jagatsinghpur:   0%|          | 0/1300 [00:00<?, ?it/s]C:\\Users\\utkar\\AppData\\Local\\Temp\\ipykernel_78684\\1940659376.py:54: UserWarning: Geometry is in a geographic CRS. Results from 'distance' are likely incorrect. Use 'GeoSeries.to_crs()' to re-project geometries to a projected CRS before this operation.\n",
      "\n",
      "  phcs['euclid_dist'] = phcs.geometry.distance(v_geom)\n",
      "C:\\Users\\utkar\\AppData\\Local\\Temp\\ipykernel_78684\\1940659376.py:54: UserWarning: Geometry is in a geographic CRS. Results from 'distance' are likely incorrect. Use 'GeoSeries.to_crs()' to re-project geometries to a projected CRS before this operation.\n",
      "\n",
      "  phcs['euclid_dist'] = phcs.geometry.distance(v_geom)\n",
      "⏱ Routing villages in jagatsinghpur: 100%|██████████| 1300/1300 [01:12<00:00, 17.93it/s]\n"
     ]
    },
    {
     "name": "stdout",
     "output_type": "stream",
     "text": [
      "✅ Saved: C:\\Users\\utkar\\OneDrive\\Desktop\\ClimateXTelemedicine Odisha\\Odisha_VScode\\.venv\\Policy note\\Outputs\\Districts\\jagatsinghpur_village_to_phc.csv [1300 records]\n",
      "\n",
      "🚀 Processing PHC: NABARANGAPUR\n"
     ]
    },
    {
     "name": "stderr",
     "output_type": "stream",
     "text": [
      "⏱ Routing villages in nabarangapur:   0%|          | 0/943 [00:00<?, ?it/s]C:\\Users\\utkar\\AppData\\Local\\Temp\\ipykernel_78684\\1940659376.py:54: UserWarning: Geometry is in a geographic CRS. Results from 'distance' are likely incorrect. Use 'GeoSeries.to_crs()' to re-project geometries to a projected CRS before this operation.\n",
      "\n",
      "  phcs['euclid_dist'] = phcs.geometry.distance(v_geom)\n",
      "C:\\Users\\utkar\\AppData\\Local\\Temp\\ipykernel_78684\\1940659376.py:54: UserWarning: Geometry is in a geographic CRS. Results from 'distance' are likely incorrect. Use 'GeoSeries.to_crs()' to re-project geometries to a projected CRS before this operation.\n",
      "\n",
      "  phcs['euclid_dist'] = phcs.geometry.distance(v_geom)\n",
      "⏱ Routing villages in nabarangapur: 100%|██████████| 943/943 [00:49<00:00, 19.12it/s]"
     ]
    },
    {
     "name": "stdout",
     "output_type": "stream",
     "text": [
      "✅ Saved: C:\\Users\\utkar\\OneDrive\\Desktop\\ClimateXTelemedicine Odisha\\Odisha_VScode\\.venv\\Policy note\\Outputs\\Districts\\nabarangapur_village_to_phc.csv [943 records]\n"
     ]
    },
    {
     "name": "stderr",
     "output_type": "stream",
     "text": [
      "\n"
     ]
    }
   ],
   "source": [
    "import os\n",
    "import requests\n",
    "import geopandas as gpd\n",
    "import pandas as pd\n",
    "from shapely.geometry import Point\n",
    "from tqdm import tqdm\n",
    "\n",
    "# === PATH SETUP ===\n",
    "VILLAGE_DIR = r\"C:\\Users\\utkar\\OneDrive\\Desktop\\ClimateXTelemedicine Odisha\\Odisha_VScode\\.venv\\Policy note\\Snapped_districts\"\n",
    "PHC_DIR = r\"C:\\Users\\utkar\\OneDrive\\Desktop\\ClimateXTelemedicine Odisha\\Odisha_VScode\\.venv\\Policy note\\Snapped_Facilities\"\n",
    "OUTPUT_DIR = r\"C:\\Users\\utkar\\OneDrive\\Desktop\\ClimateXTelemedicine Odisha\\Odisha_VScode\\.venv\\Policy note\\Outputs\\Districts\"\n",
    "os.makedirs(OUTPUT_DIR, exist_ok=True)\n",
    "\n",
    "# === DISTRICTS TO PROCESS ===\n",
    "districts = ['boudh', 'jagatsinghpur', 'nabarangapur']\n",
    "\n",
    "# === OSRM routing function ===\n",
    "def osrm_route(src, dst):\n",
    "    url = f\"http://localhost:5000/route/v1/driving/{src.x},{src.y};{dst.x},{dst.y}?overview=false\"\n",
    "    try:\n",
    "        r = requests.get(url)\n",
    "        data = r.json()\n",
    "        if r.status_code == 200 and 'routes' in data:\n",
    "            duration = data['routes'][0]['duration']  # in seconds\n",
    "            distance = data['routes'][0]['distance']  # in meters\n",
    "            return duration, distance\n",
    "    except:\n",
    "        return None, None\n",
    "    return None, None\n",
    "\n",
    "# === PROCESS EACH DISTRICT ===\n",
    "for district in districts:\n",
    "    print(f\"\\n🚀 Processing PHC: {district.upper()}\")\n",
    "\n",
    "    # === Load village and PHC files ===\n",
    "    v_path = os.path.join(VILLAGE_DIR, f\"{district}_villages_snapped.geojson\")\n",
    "    f_path = os.path.join(PHC_DIR, f\"{district}_phc.geojson\")\n",
    "\n",
    "    if not os.path.exists(v_path) or not os.path.exists(f_path):\n",
    "        print(f\"❌ Missing files for {district}, skipping...\")\n",
    "        continue\n",
    "\n",
    "    villages = gpd.read_file(v_path).to_crs(epsg=4326)\n",
    "    phcs = gpd.read_file(f_path).to_crs(epsg=4326)\n",
    "\n",
    "    # === Prepare output rows ===\n",
    "    output_rows = []\n",
    "\n",
    "    for i, v_row in tqdm(villages.iterrows(), total=len(villages), desc=f\"⏱ Routing villages in {district}\"):\n",
    "        v_geom = v_row.geometry\n",
    "        v_id = v_row.get('village_id', i)\n",
    "\n",
    "        # === Top 3 closest PHCs by Euclidean distance\n",
    "        phcs['euclid_dist'] = phcs.geometry.distance(v_geom)\n",
    "        nearest = phcs.sort_values('euclid_dist').head(3)\n",
    "\n",
    "        best_time = float('inf')\n",
    "        best_record = None\n",
    "\n",
    "        for _, f_row in nearest.iterrows():\n",
    "            f_geom = f_row.geometry\n",
    "            duration, distance = osrm_route(v_geom, f_geom)\n",
    "            if duration is not None and duration < best_time:\n",
    "                best_time = duration\n",
    "                best_record = {\n",
    "                    'village_id': v_id,\n",
    "                    'facility_id': f_row.get('facilityname', ''),\n",
    "                    'facility_type': 'phc',\n",
    "                    'duration_sec': duration,\n",
    "                    'distance_m': distance,\n",
    "                    'facility_lat': f_geom.y,\n",
    "                    'facility_lon': f_geom.x\n",
    "                }\n",
    "\n",
    "        if best_record:\n",
    "            output_rows.append(best_record)\n",
    "\n",
    "    # === Save output ===\n",
    "    df_out = pd.DataFrame(output_rows)\n",
    "    out_path = os.path.join(OUTPUT_DIR, f\"{district}_village_to_phc.csv\")\n",
    "    df_out.to_csv(out_path, index=False)\n",
    "    print(f\"✅ Saved: {out_path} [{len(df_out)} records]\")"
   ]
  }
 ],
 "metadata": {
  "kernelspec": {
   "display_name": ".venv",
   "language": "python",
   "name": "python3"
  },
  "language_info": {
   "codemirror_mode": {
    "name": "ipython",
    "version": 3
   },
   "file_extension": ".py",
   "mimetype": "text/x-python",
   "name": "python",
   "nbconvert_exporter": "python",
   "pygments_lexer": "ipython3",
   "version": "3.13.2"
  }
 },
 "nbformat": 4,
 "nbformat_minor": 5
}
